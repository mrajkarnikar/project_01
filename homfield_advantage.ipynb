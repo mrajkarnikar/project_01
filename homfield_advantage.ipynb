{
 "cells": [
  {
   "cell_type": "code",
   "execution_count": 43,
   "id": "fba33d9d",
   "metadata": {},
   "outputs": [],
   "source": [
    "# this is the importing of libraries I will be using\n",
    "\n",
    "import panel as pn\n",
    "pn.extension('plotly')\n",
    "import plotly.express as px\n",
    "import pandas as pd\n",
    "import hvplot.pandas\n",
    "import matplotlib.pyplot as plt\n",
    "import numpy as np\n",
    "import os\n",
    "from pathlib import Path\n",
    "from dotenv import load_dotenv\n",
    "\n",
    "import warnings\n",
    "warnings.filterwarnings('ignore')"
   ]
  },
  {
   "cell_type": "code",
   "execution_count": 44,
   "id": "b3210304",
   "metadata": {},
   "outputs": [],
   "source": [
    "load_dotenv()\n",
    "map_box_api = os.getenv(\"map_box_api\")"
   ]
  },
  {
   "cell_type": "markdown",
   "id": "aea9cfa6",
   "metadata": {},
   "source": [
    "## Loading the Data Set that I am using"
   ]
  },
  {
   "cell_type": "code",
   "execution_count": 45,
   "id": "29237f81",
   "metadata": {},
   "outputs": [
    {
     "data": {
      "text/html": [
       "<div>\n",
       "<style scoped>\n",
       "    .dataframe tbody tr th:only-of-type {\n",
       "        vertical-align: middle;\n",
       "    }\n",
       "\n",
       "    .dataframe tbody tr th {\n",
       "        vertical-align: top;\n",
       "    }\n",
       "\n",
       "    .dataframe thead th {\n",
       "        text-align: right;\n",
       "    }\n",
       "</style>\n",
       "<table border=\"1\" class=\"dataframe\">\n",
       "  <thead>\n",
       "    <tr style=\"text-align: right;\">\n",
       "      <th></th>\n",
       "      <th>ID</th>\n",
       "      <th>Name</th>\n",
       "      <th>Sex</th>\n",
       "      <th>Age</th>\n",
       "      <th>Height</th>\n",
       "      <th>Weight</th>\n",
       "      <th>Team</th>\n",
       "      <th>NOC</th>\n",
       "      <th>Games</th>\n",
       "      <th>Year</th>\n",
       "      <th>Season</th>\n",
       "      <th>City</th>\n",
       "      <th>Sport</th>\n",
       "      <th>Event</th>\n",
       "      <th>Medal</th>\n",
       "    </tr>\n",
       "  </thead>\n",
       "  <tbody>\n",
       "    <tr>\n",
       "      <th>0</th>\n",
       "      <td>22700</td>\n",
       "      <td>James Brendan Bennet Connolly</td>\n",
       "      <td>M</td>\n",
       "      <td>27.0</td>\n",
       "      <td>175.0</td>\n",
       "      <td>72.0</td>\n",
       "      <td>United States</td>\n",
       "      <td>USA</td>\n",
       "      <td>1896 Summer</td>\n",
       "      <td>1896</td>\n",
       "      <td>Summer</td>\n",
       "      <td>Athina</td>\n",
       "      <td>Athletics</td>\n",
       "      <td>Athletics Men's Long Jump</td>\n",
       "      <td>Bronze</td>\n",
       "    </tr>\n",
       "    <tr>\n",
       "      <th>1</th>\n",
       "      <td>25072</td>\n",
       "      <td>Evangelos Damaskos</td>\n",
       "      <td>M</td>\n",
       "      <td>NaN</td>\n",
       "      <td>NaN</td>\n",
       "      <td>NaN</td>\n",
       "      <td>Greece</td>\n",
       "      <td>GRE</td>\n",
       "      <td>1896 Summer</td>\n",
       "      <td>1896</td>\n",
       "      <td>Summer</td>\n",
       "      <td>Athina</td>\n",
       "      <td>Athletics</td>\n",
       "      <td>Athletics Men's Pole Vault</td>\n",
       "      <td>Bronze</td>\n",
       "    </tr>\n",
       "    <tr>\n",
       "      <th>2</th>\n",
       "      <td>40851</td>\n",
       "      <td>Charles Henry Stuart Gmelin</td>\n",
       "      <td>M</td>\n",
       "      <td>23.0</td>\n",
       "      <td>NaN</td>\n",
       "      <td>NaN</td>\n",
       "      <td>Great Britain</td>\n",
       "      <td>GBR</td>\n",
       "      <td>1896 Summer</td>\n",
       "      <td>1896</td>\n",
       "      <td>Summer</td>\n",
       "      <td>Athina</td>\n",
       "      <td>Athletics</td>\n",
       "      <td>Athletics Men's 400 metres</td>\n",
       "      <td>Bronze</td>\n",
       "    </tr>\n",
       "    <tr>\n",
       "      <th>3</th>\n",
       "      <td>41160</td>\n",
       "      <td>Dimitrios P. Golemis</td>\n",
       "      <td>M</td>\n",
       "      <td>21.0</td>\n",
       "      <td>NaN</td>\n",
       "      <td>NaN</td>\n",
       "      <td>Greece</td>\n",
       "      <td>GRE</td>\n",
       "      <td>1896 Summer</td>\n",
       "      <td>1896</td>\n",
       "      <td>Summer</td>\n",
       "      <td>Athina</td>\n",
       "      <td>Athletics</td>\n",
       "      <td>Athletics Men's 800 metres</td>\n",
       "      <td>Bronze</td>\n",
       "    </tr>\n",
       "    <tr>\n",
       "      <th>4</th>\n",
       "      <td>58546</td>\n",
       "      <td>Gyula Kellner</td>\n",
       "      <td>M</td>\n",
       "      <td>24.0</td>\n",
       "      <td>NaN</td>\n",
       "      <td>NaN</td>\n",
       "      <td>Hungary</td>\n",
       "      <td>HUN</td>\n",
       "      <td>1896 Summer</td>\n",
       "      <td>1896</td>\n",
       "      <td>Summer</td>\n",
       "      <td>Athina</td>\n",
       "      <td>Athletics</td>\n",
       "      <td>Athletics Men's Marathon</td>\n",
       "      <td>Bronze</td>\n",
       "    </tr>\n",
       "  </tbody>\n",
       "</table>\n",
       "</div>"
      ],
      "text/plain": [
       "      ID                           Name Sex   Age  Height  Weight  \\\n",
       "0  22700  James Brendan Bennet Connolly   M  27.0   175.0    72.0   \n",
       "1  25072             Evangelos Damaskos   M   NaN     NaN     NaN   \n",
       "2  40851    Charles Henry Stuart Gmelin   M  23.0     NaN     NaN   \n",
       "3  41160           Dimitrios P. Golemis   M  21.0     NaN     NaN   \n",
       "4  58546                  Gyula Kellner   M  24.0     NaN     NaN   \n",
       "\n",
       "            Team  NOC        Games  Year  Season    City      Sport  \\\n",
       "0  United States  USA  1896 Summer  1896  Summer  Athina  Athletics   \n",
       "1         Greece  GRE  1896 Summer  1896  Summer  Athina  Athletics   \n",
       "2  Great Britain  GBR  1896 Summer  1896  Summer  Athina  Athletics   \n",
       "3         Greece  GRE  1896 Summer  1896  Summer  Athina  Athletics   \n",
       "4        Hungary  HUN  1896 Summer  1896  Summer  Athina  Athletics   \n",
       "\n",
       "                        Event   Medal  \n",
       "0   Athletics Men's Long Jump  Bronze  \n",
       "1  Athletics Men's Pole Vault  Bronze  \n",
       "2  Athletics Men's 400 metres  Bronze  \n",
       "3  Athletics Men's 800 metres  Bronze  \n",
       "4    Athletics Men's Marathon  Bronze  "
      ]
     },
     "execution_count": 45,
     "metadata": {},
     "output_type": "execute_result"
    }
   ],
   "source": [
    "# Read the census data into a Pandas DataFrame\n",
    "file_path = Path(\"Project_1_Data.csv\")\n",
    "oly_data = pd.read_csv(file_path)\n",
    "                       #, index_col=\"Games\")\n",
    "oly_data.head()"
   ]
  },
  {
   "cell_type": "markdown",
   "id": "4a3fe74e",
   "metadata": {},
   "source": [
    "## Correcting some of the Column Values"
   ]
  },
  {
   "cell_type": "code",
   "execution_count": 46,
   "id": "82217188",
   "metadata": {},
   "outputs": [
    {
     "data": {
      "text/html": [
       "<div>\n",
       "<style scoped>\n",
       "    .dataframe tbody tr th:only-of-type {\n",
       "        vertical-align: middle;\n",
       "    }\n",
       "\n",
       "    .dataframe tbody tr th {\n",
       "        vertical-align: top;\n",
       "    }\n",
       "\n",
       "    .dataframe thead th {\n",
       "        text-align: right;\n",
       "    }\n",
       "</style>\n",
       "<table border=\"1\" class=\"dataframe\">\n",
       "  <thead>\n",
       "    <tr style=\"text-align: right;\">\n",
       "      <th></th>\n",
       "      <th>ID</th>\n",
       "      <th>Name</th>\n",
       "      <th>Sex</th>\n",
       "      <th>Age</th>\n",
       "      <th>Height</th>\n",
       "      <th>Weight</th>\n",
       "      <th>Team</th>\n",
       "      <th>NOC</th>\n",
       "      <th>Games</th>\n",
       "      <th>Year</th>\n",
       "      <th>Season</th>\n",
       "      <th>City</th>\n",
       "      <th>Sport</th>\n",
       "      <th>Event</th>\n",
       "      <th>Medal</th>\n",
       "    </tr>\n",
       "  </thead>\n",
       "  <tbody>\n",
       "    <tr>\n",
       "      <th>0</th>\n",
       "      <td>22700</td>\n",
       "      <td>James Brendan Bennet Connolly</td>\n",
       "      <td>M</td>\n",
       "      <td>27.0</td>\n",
       "      <td>175.0</td>\n",
       "      <td>72.0</td>\n",
       "      <td>United States</td>\n",
       "      <td>USA</td>\n",
       "      <td>1896 Summer</td>\n",
       "      <td>1896</td>\n",
       "      <td>Summer</td>\n",
       "      <td>Athens</td>\n",
       "      <td>Athletics</td>\n",
       "      <td>Athletics Men's Long Jump</td>\n",
       "      <td>Bronze</td>\n",
       "    </tr>\n",
       "    <tr>\n",
       "      <th>1</th>\n",
       "      <td>25072</td>\n",
       "      <td>Evangelos Damaskos</td>\n",
       "      <td>M</td>\n",
       "      <td>NaN</td>\n",
       "      <td>NaN</td>\n",
       "      <td>NaN</td>\n",
       "      <td>Greece</td>\n",
       "      <td>GRE</td>\n",
       "      <td>1896 Summer</td>\n",
       "      <td>1896</td>\n",
       "      <td>Summer</td>\n",
       "      <td>Athens</td>\n",
       "      <td>Athletics</td>\n",
       "      <td>Athletics Men's Pole Vault</td>\n",
       "      <td>Bronze</td>\n",
       "    </tr>\n",
       "    <tr>\n",
       "      <th>2</th>\n",
       "      <td>40851</td>\n",
       "      <td>Charles Henry Stuart Gmelin</td>\n",
       "      <td>M</td>\n",
       "      <td>23.0</td>\n",
       "      <td>NaN</td>\n",
       "      <td>NaN</td>\n",
       "      <td>Great Britain</td>\n",
       "      <td>GBR</td>\n",
       "      <td>1896 Summer</td>\n",
       "      <td>1896</td>\n",
       "      <td>Summer</td>\n",
       "      <td>Athens</td>\n",
       "      <td>Athletics</td>\n",
       "      <td>Athletics Men's 400 metres</td>\n",
       "      <td>Bronze</td>\n",
       "    </tr>\n",
       "    <tr>\n",
       "      <th>3</th>\n",
       "      <td>41160</td>\n",
       "      <td>Dimitrios P. Golemis</td>\n",
       "      <td>M</td>\n",
       "      <td>21.0</td>\n",
       "      <td>NaN</td>\n",
       "      <td>NaN</td>\n",
       "      <td>Greece</td>\n",
       "      <td>GRE</td>\n",
       "      <td>1896 Summer</td>\n",
       "      <td>1896</td>\n",
       "      <td>Summer</td>\n",
       "      <td>Athens</td>\n",
       "      <td>Athletics</td>\n",
       "      <td>Athletics Men's 800 metres</td>\n",
       "      <td>Bronze</td>\n",
       "    </tr>\n",
       "    <tr>\n",
       "      <th>4</th>\n",
       "      <td>58546</td>\n",
       "      <td>Gyula Kellner</td>\n",
       "      <td>M</td>\n",
       "      <td>24.0</td>\n",
       "      <td>NaN</td>\n",
       "      <td>NaN</td>\n",
       "      <td>Hungary</td>\n",
       "      <td>HUN</td>\n",
       "      <td>1896 Summer</td>\n",
       "      <td>1896</td>\n",
       "      <td>Summer</td>\n",
       "      <td>Athens</td>\n",
       "      <td>Athletics</td>\n",
       "      <td>Athletics Men's Marathon</td>\n",
       "      <td>Bronze</td>\n",
       "    </tr>\n",
       "  </tbody>\n",
       "</table>\n",
       "</div>"
      ],
      "text/plain": [
       "      ID                           Name Sex   Age  Height  Weight  \\\n",
       "0  22700  James Brendan Bennet Connolly   M  27.0   175.0    72.0   \n",
       "1  25072             Evangelos Damaskos   M   NaN     NaN     NaN   \n",
       "2  40851    Charles Henry Stuart Gmelin   M  23.0     NaN     NaN   \n",
       "3  41160           Dimitrios P. Golemis   M  21.0     NaN     NaN   \n",
       "4  58546                  Gyula Kellner   M  24.0     NaN     NaN   \n",
       "\n",
       "            Team  NOC        Games  Year  Season    City      Sport  \\\n",
       "0  United States  USA  1896 Summer  1896  Summer  Athens  Athletics   \n",
       "1         Greece  GRE  1896 Summer  1896  Summer  Athens  Athletics   \n",
       "2  Great Britain  GBR  1896 Summer  1896  Summer  Athens  Athletics   \n",
       "3         Greece  GRE  1896 Summer  1896  Summer  Athens  Athletics   \n",
       "4        Hungary  HUN  1896 Summer  1896  Summer  Athens  Athletics   \n",
       "\n",
       "                        Event   Medal  \n",
       "0   Athletics Men's Long Jump  Bronze  \n",
       "1  Athletics Men's Pole Vault  Bronze  \n",
       "2  Athletics Men's 400 metres  Bronze  \n",
       "3  Athletics Men's 800 metres  Bronze  \n",
       "4    Athletics Men's Marathon  Bronze  "
      ]
     },
     "execution_count": 46,
     "metadata": {},
     "output_type": "execute_result"
    }
   ],
   "source": [
    "\n",
    "oly_data['City'].replace({'Athina': 'Athens', 'Moskva': 'Moscow', 'Sankt Moritz': 'St Moritz'}, inplace=True)\n",
    "oly_data.head()\n"
   ]
  },
  {
   "cell_type": "markdown",
   "id": "3f484692",
   "metadata": {},
   "source": [
    "## Changing the Index to City"
   ]
  },
  {
   "cell_type": "code",
   "execution_count": 47,
   "id": "aa2dded3",
   "metadata": {},
   "outputs": [
    {
     "data": {
      "text/html": [
       "<div>\n",
       "<style scoped>\n",
       "    .dataframe tbody tr th:only-of-type {\n",
       "        vertical-align: middle;\n",
       "    }\n",
       "\n",
       "    .dataframe tbody tr th {\n",
       "        vertical-align: top;\n",
       "    }\n",
       "\n",
       "    .dataframe thead th {\n",
       "        text-align: right;\n",
       "    }\n",
       "</style>\n",
       "<table border=\"1\" class=\"dataframe\">\n",
       "  <thead>\n",
       "    <tr style=\"text-align: right;\">\n",
       "      <th></th>\n",
       "      <th>ID</th>\n",
       "      <th>Name</th>\n",
       "      <th>Sex</th>\n",
       "      <th>Age</th>\n",
       "      <th>Height</th>\n",
       "      <th>Weight</th>\n",
       "      <th>Team</th>\n",
       "      <th>NOC</th>\n",
       "      <th>Games</th>\n",
       "      <th>Year</th>\n",
       "      <th>Season</th>\n",
       "      <th>City</th>\n",
       "      <th>Sport</th>\n",
       "      <th>Event</th>\n",
       "      <th>Medal</th>\n",
       "    </tr>\n",
       "  </thead>\n",
       "  <tbody>\n",
       "    <tr>\n",
       "      <th>0</th>\n",
       "      <td>22700</td>\n",
       "      <td>James Brendan Bennet Connolly</td>\n",
       "      <td>M</td>\n",
       "      <td>27.0</td>\n",
       "      <td>175.0</td>\n",
       "      <td>72.0</td>\n",
       "      <td>United States</td>\n",
       "      <td>USA</td>\n",
       "      <td>1896 Summer</td>\n",
       "      <td>1896</td>\n",
       "      <td>Summer</td>\n",
       "      <td>Athens</td>\n",
       "      <td>Athletics</td>\n",
       "      <td>Athletics Men's Long Jump</td>\n",
       "      <td>Bronze</td>\n",
       "    </tr>\n",
       "    <tr>\n",
       "      <th>1</th>\n",
       "      <td>25072</td>\n",
       "      <td>Evangelos Damaskos</td>\n",
       "      <td>M</td>\n",
       "      <td>NaN</td>\n",
       "      <td>NaN</td>\n",
       "      <td>NaN</td>\n",
       "      <td>Greece</td>\n",
       "      <td>GRE</td>\n",
       "      <td>1896 Summer</td>\n",
       "      <td>1896</td>\n",
       "      <td>Summer</td>\n",
       "      <td>Athens</td>\n",
       "      <td>Athletics</td>\n",
       "      <td>Athletics Men's Pole Vault</td>\n",
       "      <td>Bronze</td>\n",
       "    </tr>\n",
       "    <tr>\n",
       "      <th>2</th>\n",
       "      <td>40851</td>\n",
       "      <td>Charles Henry Stuart Gmelin</td>\n",
       "      <td>M</td>\n",
       "      <td>23.0</td>\n",
       "      <td>NaN</td>\n",
       "      <td>NaN</td>\n",
       "      <td>Great Britain</td>\n",
       "      <td>GBR</td>\n",
       "      <td>1896 Summer</td>\n",
       "      <td>1896</td>\n",
       "      <td>Summer</td>\n",
       "      <td>Athens</td>\n",
       "      <td>Athletics</td>\n",
       "      <td>Athletics Men's 400 metres</td>\n",
       "      <td>Bronze</td>\n",
       "    </tr>\n",
       "    <tr>\n",
       "      <th>3</th>\n",
       "      <td>41160</td>\n",
       "      <td>Dimitrios P. Golemis</td>\n",
       "      <td>M</td>\n",
       "      <td>21.0</td>\n",
       "      <td>NaN</td>\n",
       "      <td>NaN</td>\n",
       "      <td>Greece</td>\n",
       "      <td>GRE</td>\n",
       "      <td>1896 Summer</td>\n",
       "      <td>1896</td>\n",
       "      <td>Summer</td>\n",
       "      <td>Athens</td>\n",
       "      <td>Athletics</td>\n",
       "      <td>Athletics Men's 800 metres</td>\n",
       "      <td>Bronze</td>\n",
       "    </tr>\n",
       "    <tr>\n",
       "      <th>4</th>\n",
       "      <td>58546</td>\n",
       "      <td>Gyula Kellner</td>\n",
       "      <td>M</td>\n",
       "      <td>24.0</td>\n",
       "      <td>NaN</td>\n",
       "      <td>NaN</td>\n",
       "      <td>Hungary</td>\n",
       "      <td>HUN</td>\n",
       "      <td>1896 Summer</td>\n",
       "      <td>1896</td>\n",
       "      <td>Summer</td>\n",
       "      <td>Athens</td>\n",
       "      <td>Athletics</td>\n",
       "      <td>Athletics Men's Marathon</td>\n",
       "      <td>Bronze</td>\n",
       "    </tr>\n",
       "  </tbody>\n",
       "</table>\n",
       "</div>"
      ],
      "text/plain": [
       "      ID                           Name Sex   Age  Height  Weight  \\\n",
       "0  22700  James Brendan Bennet Connolly   M  27.0   175.0    72.0   \n",
       "1  25072             Evangelos Damaskos   M   NaN     NaN     NaN   \n",
       "2  40851    Charles Henry Stuart Gmelin   M  23.0     NaN     NaN   \n",
       "3  41160           Dimitrios P. Golemis   M  21.0     NaN     NaN   \n",
       "4  58546                  Gyula Kellner   M  24.0     NaN     NaN   \n",
       "\n",
       "            Team  NOC        Games  Year  Season    City      Sport  \\\n",
       "0  United States  USA  1896 Summer  1896  Summer  Athens  Athletics   \n",
       "1         Greece  GRE  1896 Summer  1896  Summer  Athens  Athletics   \n",
       "2  Great Britain  GBR  1896 Summer  1896  Summer  Athens  Athletics   \n",
       "3         Greece  GRE  1896 Summer  1896  Summer  Athens  Athletics   \n",
       "4        Hungary  HUN  1896 Summer  1896  Summer  Athens  Athletics   \n",
       "\n",
       "                        Event   Medal  \n",
       "0   Athletics Men's Long Jump  Bronze  \n",
       "1  Athletics Men's Pole Vault  Bronze  \n",
       "2  Athletics Men's 400 metres  Bronze  \n",
       "3  Athletics Men's 800 metres  Bronze  \n",
       "4    Athletics Men's Marathon  Bronze  "
      ]
     },
     "execution_count": 47,
     "metadata": {},
     "output_type": "execute_result"
    }
   ],
   "source": [
    "oly_data.set_index('City')\n",
    "oly_data.head()"
   ]
  },
  {
   "cell_type": "code",
   "execution_count": 48,
   "id": "ea9adde6",
   "metadata": {},
   "outputs": [
    {
     "data": {
      "text/plain": [
       "ID          int64\n",
       "Name       object\n",
       "Sex        object\n",
       "Age       float64\n",
       "Height    float64\n",
       "Weight    float64\n",
       "Team       object\n",
       "NOC        object\n",
       "Games      object\n",
       "Year        int64\n",
       "Season     object\n",
       "City       object\n",
       "Sport      object\n",
       "Event      object\n",
       "Medal      object\n",
       "dtype: object"
      ]
     },
     "execution_count": 48,
     "metadata": {},
     "output_type": "execute_result"
    }
   ],
   "source": [
    "oly_data.dtypes"
   ]
  },
  {
   "cell_type": "code",
   "execution_count": 49,
   "id": "8513e48f",
   "metadata": {},
   "outputs": [],
   "source": [
    "# indetifying nulls"
   ]
  },
  {
   "cell_type": "code",
   "execution_count": 50,
   "id": "b5173498",
   "metadata": {},
   "outputs": [
    {
     "data": {
      "text/plain": [
       "ID             0\n",
       "Name           0\n",
       "Sex            0\n",
       "Age         9474\n",
       "Height     60171\n",
       "Weight     62875\n",
       "Team           0\n",
       "NOC            0\n",
       "Games          0\n",
       "Year           0\n",
       "Season         0\n",
       "City           0\n",
       "Sport          0\n",
       "Event          0\n",
       "Medal     231333\n",
       "dtype: int64"
      ]
     },
     "execution_count": 50,
     "metadata": {},
     "output_type": "execute_result"
    }
   ],
   "source": [
    "oly_data.isnull().sum()"
   ]
  },
  {
   "cell_type": "code",
   "execution_count": 51,
   "id": "f2371672",
   "metadata": {},
   "outputs": [],
   "source": [
    "# dropping nulls from the data set"
   ]
  },
  {
   "cell_type": "code",
   "execution_count": 52,
   "id": "c0560271",
   "metadata": {},
   "outputs": [
    {
     "data": {
      "text/plain": [
       "ID        0\n",
       "Name      0\n",
       "Sex       0\n",
       "Age       0\n",
       "Height    0\n",
       "Weight    0\n",
       "Team      0\n",
       "NOC       0\n",
       "Games     0\n",
       "Year      0\n",
       "Season    0\n",
       "City      0\n",
       "Sport     0\n",
       "Event     0\n",
       "Medal     0\n",
       "dtype: int64"
      ]
     },
     "execution_count": 52,
     "metadata": {},
     "output_type": "execute_result"
    }
   ],
   "source": [
    "oly_data = oly_data.dropna()\n",
    "\n",
    "oly_data.isnull().sum()"
   ]
  },
  {
   "cell_type": "code",
   "execution_count": 53,
   "id": "2abfa1c7",
   "metadata": {},
   "outputs": [
    {
     "data": {
      "text/html": [
       "<div>\n",
       "<style scoped>\n",
       "    .dataframe tbody tr th:only-of-type {\n",
       "        vertical-align: middle;\n",
       "    }\n",
       "\n",
       "    .dataframe tbody tr th {\n",
       "        vertical-align: top;\n",
       "    }\n",
       "\n",
       "    .dataframe thead th {\n",
       "        text-align: right;\n",
       "    }\n",
       "</style>\n",
       "<table border=\"1\" class=\"dataframe\">\n",
       "  <thead>\n",
       "    <tr style=\"text-align: right;\">\n",
       "      <th></th>\n",
       "      <th>ID</th>\n",
       "      <th>Name</th>\n",
       "      <th>Sex</th>\n",
       "      <th>Age</th>\n",
       "      <th>Height</th>\n",
       "      <th>Weight</th>\n",
       "      <th>Team</th>\n",
       "      <th>NOC</th>\n",
       "      <th>Games</th>\n",
       "      <th>Year</th>\n",
       "      <th>Season</th>\n",
       "      <th>City</th>\n",
       "      <th>Sport</th>\n",
       "      <th>Event</th>\n",
       "      <th>Medal</th>\n",
       "    </tr>\n",
       "  </thead>\n",
       "  <tbody>\n",
       "    <tr>\n",
       "      <th>0</th>\n",
       "      <td>22700</td>\n",
       "      <td>James Brendan Bennet Connolly</td>\n",
       "      <td>M</td>\n",
       "      <td>27.0</td>\n",
       "      <td>175.0</td>\n",
       "      <td>72.0</td>\n",
       "      <td>United States</td>\n",
       "      <td>USA</td>\n",
       "      <td>1896 Summer</td>\n",
       "      <td>1896</td>\n",
       "      <td>Summer</td>\n",
       "      <td>Athens</td>\n",
       "      <td>Athletics</td>\n",
       "      <td>Athletics Men's Long Jump</td>\n",
       "      <td>Bronze</td>\n",
       "    </tr>\n",
       "    <tr>\n",
       "      <th>5</th>\n",
       "      <td>66362</td>\n",
       "      <td>Francis Adonijah \"Frank\" Lane</td>\n",
       "      <td>M</td>\n",
       "      <td>21.0</td>\n",
       "      <td>170.0</td>\n",
       "      <td>69.0</td>\n",
       "      <td>United States</td>\n",
       "      <td>USA</td>\n",
       "      <td>1896 Summer</td>\n",
       "      <td>1896</td>\n",
       "      <td>Summer</td>\n",
       "      <td>Athens</td>\n",
       "      <td>Athletics</td>\n",
       "      <td>Athletics Men's 100 metres</td>\n",
       "      <td>Bronze</td>\n",
       "    </tr>\n",
       "    <tr>\n",
       "      <th>12</th>\n",
       "      <td>16616</td>\n",
       "      <td>Thomas Edmund \"Tom\" Burke</td>\n",
       "      <td>M</td>\n",
       "      <td>21.0</td>\n",
       "      <td>183.0</td>\n",
       "      <td>66.0</td>\n",
       "      <td>United States</td>\n",
       "      <td>USA</td>\n",
       "      <td>1896 Summer</td>\n",
       "      <td>1896</td>\n",
       "      <td>Summer</td>\n",
       "      <td>Athens</td>\n",
       "      <td>Athletics</td>\n",
       "      <td>Athletics Men's 100 metres</td>\n",
       "      <td>Gold</td>\n",
       "    </tr>\n",
       "    <tr>\n",
       "      <th>13</th>\n",
       "      <td>16616</td>\n",
       "      <td>Thomas Edmund \"Tom\" Burke</td>\n",
       "      <td>M</td>\n",
       "      <td>21.0</td>\n",
       "      <td>183.0</td>\n",
       "      <td>66.0</td>\n",
       "      <td>United States</td>\n",
       "      <td>USA</td>\n",
       "      <td>1896 Summer</td>\n",
       "      <td>1896</td>\n",
       "      <td>Summer</td>\n",
       "      <td>Athens</td>\n",
       "      <td>Athletics</td>\n",
       "      <td>Athletics Men's 400 metres</td>\n",
       "      <td>Gold</td>\n",
       "    </tr>\n",
       "    <tr>\n",
       "      <th>16</th>\n",
       "      <td>22700</td>\n",
       "      <td>James Brendan Bennet Connolly</td>\n",
       "      <td>M</td>\n",
       "      <td>27.0</td>\n",
       "      <td>175.0</td>\n",
       "      <td>72.0</td>\n",
       "      <td>United States</td>\n",
       "      <td>USA</td>\n",
       "      <td>1896 Summer</td>\n",
       "      <td>1896</td>\n",
       "      <td>Summer</td>\n",
       "      <td>Athens</td>\n",
       "      <td>Athletics</td>\n",
       "      <td>Athletics Men's Triple Jump</td>\n",
       "      <td>Gold</td>\n",
       "    </tr>\n",
       "  </tbody>\n",
       "</table>\n",
       "</div>"
      ],
      "text/plain": [
       "       ID                           Name Sex   Age  Height  Weight  \\\n",
       "0   22700  James Brendan Bennet Connolly   M  27.0   175.0    72.0   \n",
       "5   66362  Francis Adonijah \"Frank\" Lane   M  21.0   170.0    69.0   \n",
       "12  16616      Thomas Edmund \"Tom\" Burke   M  21.0   183.0    66.0   \n",
       "13  16616      Thomas Edmund \"Tom\" Burke   M  21.0   183.0    66.0   \n",
       "16  22700  James Brendan Bennet Connolly   M  27.0   175.0    72.0   \n",
       "\n",
       "             Team  NOC        Games  Year  Season    City      Sport  \\\n",
       "0   United States  USA  1896 Summer  1896  Summer  Athens  Athletics   \n",
       "5   United States  USA  1896 Summer  1896  Summer  Athens  Athletics   \n",
       "12  United States  USA  1896 Summer  1896  Summer  Athens  Athletics   \n",
       "13  United States  USA  1896 Summer  1896  Summer  Athens  Athletics   \n",
       "16  United States  USA  1896 Summer  1896  Summer  Athens  Athletics   \n",
       "\n",
       "                          Event   Medal  \n",
       "0     Athletics Men's Long Jump  Bronze  \n",
       "5    Athletics Men's 100 metres  Bronze  \n",
       "12   Athletics Men's 100 metres    Gold  \n",
       "13   Athletics Men's 400 metres    Gold  \n",
       "16  Athletics Men's Triple Jump    Gold  "
      ]
     },
     "execution_count": 53,
     "metadata": {},
     "output_type": "execute_result"
    }
   ],
   "source": [
    "oly_data.head()"
   ]
  },
  {
   "cell_type": "code",
   "execution_count": 54,
   "id": "74575352",
   "metadata": {},
   "outputs": [
    {
     "data": {
      "text/html": [
       "<div>\n",
       "<style scoped>\n",
       "    .dataframe tbody tr th:only-of-type {\n",
       "        vertical-align: middle;\n",
       "    }\n",
       "\n",
       "    .dataframe tbody tr th {\n",
       "        vertical-align: top;\n",
       "    }\n",
       "\n",
       "    .dataframe thead th {\n",
       "        text-align: right;\n",
       "    }\n",
       "</style>\n",
       "<table border=\"1\" class=\"dataframe\">\n",
       "  <thead>\n",
       "    <tr style=\"text-align: right;\">\n",
       "      <th></th>\n",
       "      <th>ID</th>\n",
       "      <th>Name</th>\n",
       "      <th>Sex</th>\n",
       "      <th>Age</th>\n",
       "      <th>Height</th>\n",
       "      <th>Weight</th>\n",
       "      <th>Team</th>\n",
       "      <th>NOC</th>\n",
       "      <th>Games</th>\n",
       "      <th>Year</th>\n",
       "      <th>Season</th>\n",
       "      <th>City</th>\n",
       "      <th>Sport</th>\n",
       "      <th>Event</th>\n",
       "      <th>Medal</th>\n",
       "    </tr>\n",
       "  </thead>\n",
       "  <tbody>\n",
       "    <tr>\n",
       "      <th>0</th>\n",
       "      <td>22700</td>\n",
       "      <td>James Brendan Bennet Connolly</td>\n",
       "      <td>M</td>\n",
       "      <td>27.0</td>\n",
       "      <td>175.0</td>\n",
       "      <td>72.0</td>\n",
       "      <td>United States</td>\n",
       "      <td>USA</td>\n",
       "      <td>1896 Summer</td>\n",
       "      <td>1896</td>\n",
       "      <td>Summer</td>\n",
       "      <td>Athens</td>\n",
       "      <td>Athletics</td>\n",
       "      <td>Athletics Men's Long Jump</td>\n",
       "      <td>1</td>\n",
       "    </tr>\n",
       "    <tr>\n",
       "      <th>5</th>\n",
       "      <td>66362</td>\n",
       "      <td>Francis Adonijah \"Frank\" Lane</td>\n",
       "      <td>M</td>\n",
       "      <td>21.0</td>\n",
       "      <td>170.0</td>\n",
       "      <td>69.0</td>\n",
       "      <td>United States</td>\n",
       "      <td>USA</td>\n",
       "      <td>1896 Summer</td>\n",
       "      <td>1896</td>\n",
       "      <td>Summer</td>\n",
       "      <td>Athens</td>\n",
       "      <td>Athletics</td>\n",
       "      <td>Athletics Men's 100 metres</td>\n",
       "      <td>1</td>\n",
       "    </tr>\n",
       "    <tr>\n",
       "      <th>12</th>\n",
       "      <td>16616</td>\n",
       "      <td>Thomas Edmund \"Tom\" Burke</td>\n",
       "      <td>M</td>\n",
       "      <td>21.0</td>\n",
       "      <td>183.0</td>\n",
       "      <td>66.0</td>\n",
       "      <td>United States</td>\n",
       "      <td>USA</td>\n",
       "      <td>1896 Summer</td>\n",
       "      <td>1896</td>\n",
       "      <td>Summer</td>\n",
       "      <td>Athens</td>\n",
       "      <td>Athletics</td>\n",
       "      <td>Athletics Men's 100 metres</td>\n",
       "      <td>1</td>\n",
       "    </tr>\n",
       "    <tr>\n",
       "      <th>13</th>\n",
       "      <td>16616</td>\n",
       "      <td>Thomas Edmund \"Tom\" Burke</td>\n",
       "      <td>M</td>\n",
       "      <td>21.0</td>\n",
       "      <td>183.0</td>\n",
       "      <td>66.0</td>\n",
       "      <td>United States</td>\n",
       "      <td>USA</td>\n",
       "      <td>1896 Summer</td>\n",
       "      <td>1896</td>\n",
       "      <td>Summer</td>\n",
       "      <td>Athens</td>\n",
       "      <td>Athletics</td>\n",
       "      <td>Athletics Men's 400 metres</td>\n",
       "      <td>1</td>\n",
       "    </tr>\n",
       "    <tr>\n",
       "      <th>16</th>\n",
       "      <td>22700</td>\n",
       "      <td>James Brendan Bennet Connolly</td>\n",
       "      <td>M</td>\n",
       "      <td>27.0</td>\n",
       "      <td>175.0</td>\n",
       "      <td>72.0</td>\n",
       "      <td>United States</td>\n",
       "      <td>USA</td>\n",
       "      <td>1896 Summer</td>\n",
       "      <td>1896</td>\n",
       "      <td>Summer</td>\n",
       "      <td>Athens</td>\n",
       "      <td>Athletics</td>\n",
       "      <td>Athletics Men's Triple Jump</td>\n",
       "      <td>1</td>\n",
       "    </tr>\n",
       "  </tbody>\n",
       "</table>\n",
       "</div>"
      ],
      "text/plain": [
       "       ID                           Name Sex   Age  Height  Weight  \\\n",
       "0   22700  James Brendan Bennet Connolly   M  27.0   175.0    72.0   \n",
       "5   66362  Francis Adonijah \"Frank\" Lane   M  21.0   170.0    69.0   \n",
       "12  16616      Thomas Edmund \"Tom\" Burke   M  21.0   183.0    66.0   \n",
       "13  16616      Thomas Edmund \"Tom\" Burke   M  21.0   183.0    66.0   \n",
       "16  22700  James Brendan Bennet Connolly   M  27.0   175.0    72.0   \n",
       "\n",
       "             Team  NOC        Games  Year  Season    City      Sport  \\\n",
       "0   United States  USA  1896 Summer  1896  Summer  Athens  Athletics   \n",
       "5   United States  USA  1896 Summer  1896  Summer  Athens  Athletics   \n",
       "12  United States  USA  1896 Summer  1896  Summer  Athens  Athletics   \n",
       "13  United States  USA  1896 Summer  1896  Summer  Athens  Athletics   \n",
       "16  United States  USA  1896 Summer  1896  Summer  Athens  Athletics   \n",
       "\n",
       "                          Event Medal  \n",
       "0     Athletics Men's Long Jump     1  \n",
       "5    Athletics Men's 100 metres     1  \n",
       "12   Athletics Men's 100 metres     1  \n",
       "13   Athletics Men's 400 metres     1  \n",
       "16  Athletics Men's Triple Jump     1  "
      ]
     },
     "execution_count": 54,
     "metadata": {},
     "output_type": "execute_result"
    }
   ],
   "source": [
    "#oly_data['Medal'].loc[(oly_data['Medal'])] = 1\n",
    "\n",
    "oly_data['Medal'].replace({'Gold': '1', 'Silver': '1', 'Bronze': '1'}, inplace=True)\n",
    "oly_data.head()"
   ]
  },
  {
   "cell_type": "code",
   "execution_count": 55,
   "id": "d6e78a71",
   "metadata": {},
   "outputs": [
    {
     "data": {
      "text/plain": [
       "ID          int64\n",
       "Name       object\n",
       "Sex        object\n",
       "Age       float64\n",
       "Height    float64\n",
       "Weight    float64\n",
       "Team       object\n",
       "NOC        object\n",
       "Games      object\n",
       "Year        int64\n",
       "Season     object\n",
       "City       object\n",
       "Sport      object\n",
       "Event      object\n",
       "Medal     float64\n",
       "dtype: object"
      ]
     },
     "execution_count": 55,
     "metadata": {},
     "output_type": "execute_result"
    }
   ],
   "source": [
    "# changing 'Medal' column from int to float in order to .sum \n",
    "\n",
    "oly_data['Medal'] = oly_data['Medal'].astype('float')\n",
    "\n",
    "oly_data.dtypes"
   ]
  },
  {
   "cell_type": "code",
   "execution_count": 73,
   "id": "7e3f449a",
   "metadata": {},
   "outputs": [
    {
     "data": {
      "text/html": [
       "<div>\n",
       "<style scoped>\n",
       "    .dataframe tbody tr th:only-of-type {\n",
       "        vertical-align: middle;\n",
       "    }\n",
       "\n",
       "    .dataframe tbody tr th {\n",
       "        vertical-align: top;\n",
       "    }\n",
       "\n",
       "    .dataframe thead th {\n",
       "        text-align: right;\n",
       "    }\n",
       "</style>\n",
       "<table border=\"1\" class=\"dataframe\">\n",
       "  <thead>\n",
       "    <tr style=\"text-align: right;\">\n",
       "      <th></th>\n",
       "      <th>ID</th>\n",
       "      <th>Name</th>\n",
       "      <th>Sex</th>\n",
       "      <th>Age</th>\n",
       "      <th>Height</th>\n",
       "      <th>Weight</th>\n",
       "      <th>Team</th>\n",
       "      <th>NOC</th>\n",
       "      <th>Games</th>\n",
       "      <th>Year</th>\n",
       "      <th>Season</th>\n",
       "      <th>City</th>\n",
       "      <th>Sport</th>\n",
       "      <th>Event</th>\n",
       "      <th>Medal</th>\n",
       "    </tr>\n",
       "  </thead>\n",
       "  <tbody>\n",
       "    <tr>\n",
       "      <th>0</th>\n",
       "      <td>22700</td>\n",
       "      <td>James Brendan Bennet Connolly</td>\n",
       "      <td>M</td>\n",
       "      <td>27.0</td>\n",
       "      <td>175.0</td>\n",
       "      <td>72.0</td>\n",
       "      <td>United States</td>\n",
       "      <td>USA</td>\n",
       "      <td>1896 Summer</td>\n",
       "      <td>1896</td>\n",
       "      <td>Summer</td>\n",
       "      <td>Athens</td>\n",
       "      <td>Athletics</td>\n",
       "      <td>Athletics Men's Long Jump</td>\n",
       "      <td>1.0</td>\n",
       "    </tr>\n",
       "    <tr>\n",
       "      <th>5</th>\n",
       "      <td>66362</td>\n",
       "      <td>Francis Adonijah \"Frank\" Lane</td>\n",
       "      <td>M</td>\n",
       "      <td>21.0</td>\n",
       "      <td>170.0</td>\n",
       "      <td>69.0</td>\n",
       "      <td>United States</td>\n",
       "      <td>USA</td>\n",
       "      <td>1896 Summer</td>\n",
       "      <td>1896</td>\n",
       "      <td>Summer</td>\n",
       "      <td>Athens</td>\n",
       "      <td>Athletics</td>\n",
       "      <td>Athletics Men's 100 metres</td>\n",
       "      <td>1.0</td>\n",
       "    </tr>\n",
       "    <tr>\n",
       "      <th>12</th>\n",
       "      <td>16616</td>\n",
       "      <td>Thomas Edmund \"Tom\" Burke</td>\n",
       "      <td>M</td>\n",
       "      <td>21.0</td>\n",
       "      <td>183.0</td>\n",
       "      <td>66.0</td>\n",
       "      <td>United States</td>\n",
       "      <td>USA</td>\n",
       "      <td>1896 Summer</td>\n",
       "      <td>1896</td>\n",
       "      <td>Summer</td>\n",
       "      <td>Athens</td>\n",
       "      <td>Athletics</td>\n",
       "      <td>Athletics Men's 100 metres</td>\n",
       "      <td>1.0</td>\n",
       "    </tr>\n",
       "    <tr>\n",
       "      <th>13</th>\n",
       "      <td>16616</td>\n",
       "      <td>Thomas Edmund \"Tom\" Burke</td>\n",
       "      <td>M</td>\n",
       "      <td>21.0</td>\n",
       "      <td>183.0</td>\n",
       "      <td>66.0</td>\n",
       "      <td>United States</td>\n",
       "      <td>USA</td>\n",
       "      <td>1896 Summer</td>\n",
       "      <td>1896</td>\n",
       "      <td>Summer</td>\n",
       "      <td>Athens</td>\n",
       "      <td>Athletics</td>\n",
       "      <td>Athletics Men's 400 metres</td>\n",
       "      <td>1.0</td>\n",
       "    </tr>\n",
       "    <tr>\n",
       "      <th>16</th>\n",
       "      <td>22700</td>\n",
       "      <td>James Brendan Bennet Connolly</td>\n",
       "      <td>M</td>\n",
       "      <td>27.0</td>\n",
       "      <td>175.0</td>\n",
       "      <td>72.0</td>\n",
       "      <td>United States</td>\n",
       "      <td>USA</td>\n",
       "      <td>1896 Summer</td>\n",
       "      <td>1896</td>\n",
       "      <td>Summer</td>\n",
       "      <td>Athens</td>\n",
       "      <td>Athletics</td>\n",
       "      <td>Athletics Men's Triple Jump</td>\n",
       "      <td>1.0</td>\n",
       "    </tr>\n",
       "    <tr>\n",
       "      <th>...</th>\n",
       "      <td>...</td>\n",
       "      <td>...</td>\n",
       "      <td>...</td>\n",
       "      <td>...</td>\n",
       "      <td>...</td>\n",
       "      <td>...</td>\n",
       "      <td>...</td>\n",
       "      <td>...</td>\n",
       "      <td>...</td>\n",
       "      <td>...</td>\n",
       "      <td>...</td>\n",
       "      <td>...</td>\n",
       "      <td>...</td>\n",
       "      <td>...</td>\n",
       "      <td>...</td>\n",
       "    </tr>\n",
       "    <tr>\n",
       "      <th>257428</th>\n",
       "      <td>32384</td>\n",
       "      <td>Brady Lee Ellison</td>\n",
       "      <td>M</td>\n",
       "      <td>27.0</td>\n",
       "      <td>181.0</td>\n",
       "      <td>86.0</td>\n",
       "      <td>United States</td>\n",
       "      <td>USA</td>\n",
       "      <td>2016 Summer</td>\n",
       "      <td>2016</td>\n",
       "      <td>Summer</td>\n",
       "      <td>Rio de Janeiro</td>\n",
       "      <td>Archery</td>\n",
       "      <td>Archery Men's Individual</td>\n",
       "      <td>1.0</td>\n",
       "    </tr>\n",
       "    <tr>\n",
       "      <th>257429</th>\n",
       "      <td>59520</td>\n",
       "      <td>Ki Bo-Bae</td>\n",
       "      <td>F</td>\n",
       "      <td>28.0</td>\n",
       "      <td>167.0</td>\n",
       "      <td>57.0</td>\n",
       "      <td>South Korea</td>\n",
       "      <td>KOR</td>\n",
       "      <td>2016 Summer</td>\n",
       "      <td>2016</td>\n",
       "      <td>Summer</td>\n",
       "      <td>Rio de Janeiro</td>\n",
       "      <td>Archery</td>\n",
       "      <td>Archery Women's Individual</td>\n",
       "      <td>1.0</td>\n",
       "    </tr>\n",
       "    <tr>\n",
       "      <th>257430</th>\n",
       "      <td>67472</td>\n",
       "      <td>Le Chien-Ying</td>\n",
       "      <td>F</td>\n",
       "      <td>26.0</td>\n",
       "      <td>165.0</td>\n",
       "      <td>69.0</td>\n",
       "      <td>Chinese Taipei</td>\n",
       "      <td>TPE</td>\n",
       "      <td>2016 Summer</td>\n",
       "      <td>2016</td>\n",
       "      <td>Summer</td>\n",
       "      <td>Rio de Janeiro</td>\n",
       "      <td>Archery</td>\n",
       "      <td>Archery Women's Team</td>\n",
       "      <td>1.0</td>\n",
       "    </tr>\n",
       "    <tr>\n",
       "      <th>257431</th>\n",
       "      <td>69994</td>\n",
       "      <td>Lin Shih-Chia</td>\n",
       "      <td>F</td>\n",
       "      <td>23.0</td>\n",
       "      <td>160.0</td>\n",
       "      <td>65.0</td>\n",
       "      <td>Chinese Taipei</td>\n",
       "      <td>TPE</td>\n",
       "      <td>2016 Summer</td>\n",
       "      <td>2016</td>\n",
       "      <td>Summer</td>\n",
       "      <td>Rio de Janeiro</td>\n",
       "      <td>Archery</td>\n",
       "      <td>Archery Women's Team</td>\n",
       "      <td>1.0</td>\n",
       "    </tr>\n",
       "    <tr>\n",
       "      <th>257432</th>\n",
       "      <td>96508</td>\n",
       "      <td>Alec Potts</td>\n",
       "      <td>M</td>\n",
       "      <td>20.0</td>\n",
       "      <td>185.0</td>\n",
       "      <td>77.0</td>\n",
       "      <td>Australia</td>\n",
       "      <td>AUS</td>\n",
       "      <td>2016 Summer</td>\n",
       "      <td>2016</td>\n",
       "      <td>Summer</td>\n",
       "      <td>Rio de Janeiro</td>\n",
       "      <td>Archery</td>\n",
       "      <td>Archery Men's Team</td>\n",
       "      <td>1.0</td>\n",
       "    </tr>\n",
       "  </tbody>\n",
       "</table>\n",
       "<p>210 rows × 15 columns</p>\n",
       "</div>"
      ],
      "text/plain": [
       "           ID                           Name Sex   Age  Height  Weight  \\\n",
       "0       22700  James Brendan Bennet Connolly   M  27.0   175.0    72.0   \n",
       "5       66362  Francis Adonijah \"Frank\" Lane   M  21.0   170.0    69.0   \n",
       "12      16616      Thomas Edmund \"Tom\" Burke   M  21.0   183.0    66.0   \n",
       "13      16616      Thomas Edmund \"Tom\" Burke   M  21.0   183.0    66.0   \n",
       "16      22700  James Brendan Bennet Connolly   M  27.0   175.0    72.0   \n",
       "...       ...                            ...  ..   ...     ...     ...   \n",
       "257428  32384              Brady Lee Ellison   M  27.0   181.0    86.0   \n",
       "257429  59520                      Ki Bo-Bae   F  28.0   167.0    57.0   \n",
       "257430  67472                  Le Chien-Ying   F  26.0   165.0    69.0   \n",
       "257431  69994                  Lin Shih-Chia   F  23.0   160.0    65.0   \n",
       "257432  96508                     Alec Potts   M  20.0   185.0    77.0   \n",
       "\n",
       "                  Team  NOC        Games  Year  Season            City  \\\n",
       "0        United States  USA  1896 Summer  1896  Summer          Athens   \n",
       "5        United States  USA  1896 Summer  1896  Summer          Athens   \n",
       "12       United States  USA  1896 Summer  1896  Summer          Athens   \n",
       "13       United States  USA  1896 Summer  1896  Summer          Athens   \n",
       "16       United States  USA  1896 Summer  1896  Summer          Athens   \n",
       "...                ...  ...          ...   ...     ...             ...   \n",
       "257428   United States  USA  2016 Summer  2016  Summer  Rio de Janeiro   \n",
       "257429     South Korea  KOR  2016 Summer  2016  Summer  Rio de Janeiro   \n",
       "257430  Chinese Taipei  TPE  2016 Summer  2016  Summer  Rio de Janeiro   \n",
       "257431  Chinese Taipei  TPE  2016 Summer  2016  Summer  Rio de Janeiro   \n",
       "257432       Australia  AUS  2016 Summer  2016  Summer  Rio de Janeiro   \n",
       "\n",
       "            Sport                        Event  Medal  \n",
       "0       Athletics    Athletics Men's Long Jump    1.0  \n",
       "5       Athletics   Athletics Men's 100 metres    1.0  \n",
       "12      Athletics   Athletics Men's 100 metres    1.0  \n",
       "13      Athletics   Athletics Men's 400 metres    1.0  \n",
       "16      Athletics  Athletics Men's Triple Jump    1.0  \n",
       "...           ...                          ...    ...  \n",
       "257428    Archery     Archery Men's Individual    1.0  \n",
       "257429    Archery   Archery Women's Individual    1.0  \n",
       "257430    Archery         Archery Women's Team    1.0  \n",
       "257431    Archery         Archery Women's Team    1.0  \n",
       "257432    Archery           Archery Men's Team    1.0  \n",
       "\n",
       "[210 rows x 15 columns]"
      ]
     },
     "execution_count": 73,
     "metadata": {},
     "output_type": "execute_result"
    }
   ],
   "source": [
    "#total_medals = oly_data.groupby(['Year', 'Team'])\n",
    "\n",
    "total_medals = oly_data.groupby('City')\n",
    "\n",
    "#total_medals = oly_data['Medal'].groupby('Games').sum()\n",
    "\n",
    "#total_medals = oly_data.groupby('Games')\n",
    "\n",
    "#total_medals.sum('Medal')\n",
    "\n",
    "total_medals.head()"
   ]
  },
  {
   "cell_type": "code",
   "execution_count": null,
   "id": "bbba83a3",
   "metadata": {},
   "outputs": [],
   "source": []
  },
  {
   "cell_type": "code",
   "execution_count": null,
   "id": "8b813263",
   "metadata": {},
   "outputs": [],
   "source": []
  },
  {
   "cell_type": "code",
   "execution_count": null,
   "id": "2d1d9ff2",
   "metadata": {},
   "outputs": [],
   "source": []
  },
  {
   "cell_type": "code",
   "execution_count": null,
   "id": "d242c942",
   "metadata": {},
   "outputs": [],
   "source": []
  },
  {
   "cell_type": "code",
   "execution_count": null,
   "id": "b899ae03",
   "metadata": {},
   "outputs": [],
   "source": []
  },
  {
   "cell_type": "code",
   "execution_count": 5,
   "id": "cab1ac63",
   "metadata": {},
   "outputs": [
    {
     "data": {
      "text/html": [
       "<div>\n",
       "<style scoped>\n",
       "    .dataframe tbody tr th:only-of-type {\n",
       "        vertical-align: middle;\n",
       "    }\n",
       "\n",
       "    .dataframe tbody tr th {\n",
       "        vertical-align: top;\n",
       "    }\n",
       "\n",
       "    .dataframe thead th {\n",
       "        text-align: right;\n",
       "    }\n",
       "</style>\n",
       "<table border=\"1\" class=\"dataframe\">\n",
       "  <thead>\n",
       "    <tr style=\"text-align: right;\">\n",
       "      <th></th>\n",
       "      <th>City</th>\n",
       "      <th>Country</th>\n",
       "      <th>noc</th>\n",
       "      <th>Summer</th>\n",
       "      <th>Winter</th>\n",
       "      <th>Year</th>\n",
       "      <th>Latitude</th>\n",
       "      <th>Longitude</th>\n",
       "    </tr>\n",
       "  </thead>\n",
       "  <tbody>\n",
       "    <tr>\n",
       "      <th>0</th>\n",
       "      <td>Athens</td>\n",
       "      <td>Greece</td>\n",
       "      <td>GRE</td>\n",
       "      <td>I</td>\n",
       "      <td>NaN</td>\n",
       "      <td>1896</td>\n",
       "      <td>37.983333</td>\n",
       "      <td>23.733334</td>\n",
       "    </tr>\n",
       "    <tr>\n",
       "      <th>1</th>\n",
       "      <td>Paris</td>\n",
       "      <td>France</td>\n",
       "      <td>FRA</td>\n",
       "      <td>II</td>\n",
       "      <td>NaN</td>\n",
       "      <td>1900</td>\n",
       "      <td>48.853410</td>\n",
       "      <td>2.348800</td>\n",
       "    </tr>\n",
       "    <tr>\n",
       "      <th>2</th>\n",
       "      <td>St. Louis</td>\n",
       "      <td>United States</td>\n",
       "      <td>USA</td>\n",
       "      <td>III</td>\n",
       "      <td>NaN</td>\n",
       "      <td>1904</td>\n",
       "      <td>38.627273</td>\n",
       "      <td>-90.197891</td>\n",
       "    </tr>\n",
       "    <tr>\n",
       "      <th>3</th>\n",
       "      <td>London</td>\n",
       "      <td>United Kingdom</td>\n",
       "      <td>GBR</td>\n",
       "      <td>IV</td>\n",
       "      <td>NaN</td>\n",
       "      <td>1908</td>\n",
       "      <td>51.508415</td>\n",
       "      <td>-0.125533</td>\n",
       "    </tr>\n",
       "    <tr>\n",
       "      <th>4</th>\n",
       "      <td>Stockholm</td>\n",
       "      <td>Sweden</td>\n",
       "      <td>SWE</td>\n",
       "      <td>V</td>\n",
       "      <td>NaN</td>\n",
       "      <td>1912</td>\n",
       "      <td>59.332577</td>\n",
       "      <td>18.064903</td>\n",
       "    </tr>\n",
       "  </tbody>\n",
       "</table>\n",
       "</div>"
      ],
      "text/plain": [
       "        City         Country  noc Summer Winter  Year   Latitude  Longitude\n",
       "0     Athens          Greece  GRE      I    NaN  1896  37.983333  23.733334\n",
       "1      Paris          France  FRA     II    NaN  1900  48.853410   2.348800\n",
       "2  St. Louis   United States  USA    III    NaN  1904  38.627273 -90.197891\n",
       "3     London  United Kingdom  GBR     IV    NaN  1908  51.508415  -0.125533\n",
       "4  Stockholm          Sweden  SWE      V    NaN  1912  59.332577  18.064903"
      ]
     },
     "execution_count": 5,
     "metadata": {},
     "output_type": "execute_result"
    }
   ],
   "source": [
    "# Loading coordinates data\n",
    "\n",
    "file_path_loc = Path(\"olym_log_lat.csv\")\n",
    "loc_data = pd.read_csv(file_path_loc)\n",
    "\n",
    "loc_data.rename(columns = {'NOC' : 'noc'}, inplace = True)\n",
    "\n",
    "loc_data.head()"
   ]
  },
  {
   "cell_type": "code",
   "execution_count": 52,
   "id": "8c95a1c7",
   "metadata": {},
   "outputs": [
    {
     "data": {
      "text/html": [
       "<div>\n",
       "<style scoped>\n",
       "    .dataframe tbody tr th:only-of-type {\n",
       "        vertical-align: middle;\n",
       "    }\n",
       "\n",
       "    .dataframe tbody tr th {\n",
       "        vertical-align: top;\n",
       "    }\n",
       "\n",
       "    .dataframe thead th {\n",
       "        text-align: right;\n",
       "    }\n",
       "</style>\n",
       "<table border=\"1\" class=\"dataframe\">\n",
       "  <thead>\n",
       "    <tr style=\"text-align: right;\">\n",
       "      <th></th>\n",
       "      <th>City</th>\n",
       "      <th>Country</th>\n",
       "      <th>noc</th>\n",
       "      <th>Summer</th>\n",
       "      <th>Winter</th>\n",
       "      <th>Year</th>\n",
       "      <th>Latitude</th>\n",
       "      <th>Longitude</th>\n",
       "    </tr>\n",
       "  </thead>\n",
       "  <tbody>\n",
       "    <tr>\n",
       "      <th>0</th>\n",
       "      <td>Athens</td>\n",
       "      <td>Greece</td>\n",
       "      <td>GRE</td>\n",
       "      <td>I</td>\n",
       "      <td>NaN</td>\n",
       "      <td>1896</td>\n",
       "      <td>37.983333</td>\n",
       "      <td>23.733334</td>\n",
       "    </tr>\n",
       "    <tr>\n",
       "      <th>1</th>\n",
       "      <td>Paris</td>\n",
       "      <td>France</td>\n",
       "      <td>FRA</td>\n",
       "      <td>II</td>\n",
       "      <td>NaN</td>\n",
       "      <td>1900</td>\n",
       "      <td>48.853410</td>\n",
       "      <td>2.348800</td>\n",
       "    </tr>\n",
       "    <tr>\n",
       "      <th>2</th>\n",
       "      <td>St. Louis</td>\n",
       "      <td>United States</td>\n",
       "      <td>USA</td>\n",
       "      <td>III</td>\n",
       "      <td>NaN</td>\n",
       "      <td>1904</td>\n",
       "      <td>38.627273</td>\n",
       "      <td>-90.197891</td>\n",
       "    </tr>\n",
       "    <tr>\n",
       "      <th>3</th>\n",
       "      <td>London</td>\n",
       "      <td>United Kingdom</td>\n",
       "      <td>GBR</td>\n",
       "      <td>IV</td>\n",
       "      <td>NaN</td>\n",
       "      <td>1908</td>\n",
       "      <td>51.508415</td>\n",
       "      <td>-0.125533</td>\n",
       "    </tr>\n",
       "    <tr>\n",
       "      <th>4</th>\n",
       "      <td>Stockholm</td>\n",
       "      <td>Sweden</td>\n",
       "      <td>SWE</td>\n",
       "      <td>V</td>\n",
       "      <td>NaN</td>\n",
       "      <td>1912</td>\n",
       "      <td>59.332577</td>\n",
       "      <td>18.064903</td>\n",
       "    </tr>\n",
       "  </tbody>\n",
       "</table>\n",
       "</div>"
      ],
      "text/plain": [
       "        City         Country  noc Summer Winter  Year   Latitude  Longitude\n",
       "0     Athens          Greece  GRE      I    NaN  1896  37.983333  23.733334\n",
       "1      Paris          France  FRA     II    NaN  1900  48.853410   2.348800\n",
       "2  St. Louis   United States  USA    III    NaN  1904  38.627273 -90.197891\n",
       "3     London  United Kingdom  GBR     IV    NaN  1908  51.508415  -0.125533\n",
       "4  Stockholm          Sweden  SWE      V    NaN  1912  59.332577  18.064903"
      ]
     },
     "execution_count": 52,
     "metadata": {},
     "output_type": "execute_result"
    }
   ],
   "source": [
    "loc_data.round(4)\n",
    "loc_data.head()"
   ]
  },
  {
   "cell_type": "code",
   "execution_count": 26,
   "id": "30e3355c",
   "metadata": {},
   "outputs": [
    {
     "data": {
      "text/html": [
       "<div>\n",
       "<style scoped>\n",
       "    .dataframe tbody tr th:only-of-type {\n",
       "        vertical-align: middle;\n",
       "    }\n",
       "\n",
       "    .dataframe tbody tr th {\n",
       "        vertical-align: top;\n",
       "    }\n",
       "\n",
       "    .dataframe thead th {\n",
       "        text-align: right;\n",
       "    }\n",
       "</style>\n",
       "<table border=\"1\" class=\"dataframe\">\n",
       "  <thead>\n",
       "    <tr style=\"text-align: right;\">\n",
       "      <th></th>\n",
       "      <th>City</th>\n",
       "      <th>Country</th>\n",
       "      <th>noc</th>\n",
       "      <th>Summer</th>\n",
       "      <th>Winter</th>\n",
       "      <th>Year</th>\n",
       "      <th>Latitude</th>\n",
       "      <th>Longitude</th>\n",
       "    </tr>\n",
       "  </thead>\n",
       "  <tbody>\n",
       "    <tr>\n",
       "      <th>0</th>\n",
       "      <td>Athens</td>\n",
       "      <td>Greece</td>\n",
       "      <td>GRE</td>\n",
       "      <td>I</td>\n",
       "      <td>NaN</td>\n",
       "      <td>1896</td>\n",
       "      <td>37.983333</td>\n",
       "      <td>23.733334</td>\n",
       "    </tr>\n",
       "    <tr>\n",
       "      <th>1</th>\n",
       "      <td>Paris</td>\n",
       "      <td>France</td>\n",
       "      <td>FRA</td>\n",
       "      <td>II</td>\n",
       "      <td>NaN</td>\n",
       "      <td>1900</td>\n",
       "      <td>48.853410</td>\n",
       "      <td>2.348800</td>\n",
       "    </tr>\n",
       "    <tr>\n",
       "      <th>2</th>\n",
       "      <td>St. Louis</td>\n",
       "      <td>United States</td>\n",
       "      <td>USA</td>\n",
       "      <td>III</td>\n",
       "      <td>NaN</td>\n",
       "      <td>1904</td>\n",
       "      <td>38.627273</td>\n",
       "      <td>-90.197891</td>\n",
       "    </tr>\n",
       "    <tr>\n",
       "      <th>3</th>\n",
       "      <td>London</td>\n",
       "      <td>United Kingdom</td>\n",
       "      <td>GBR</td>\n",
       "      <td>IV</td>\n",
       "      <td>NaN</td>\n",
       "      <td>1908</td>\n",
       "      <td>51.508415</td>\n",
       "      <td>-0.125533</td>\n",
       "    </tr>\n",
       "    <tr>\n",
       "      <th>4</th>\n",
       "      <td>Stockholm</td>\n",
       "      <td>Sweden</td>\n",
       "      <td>SWE</td>\n",
       "      <td>V</td>\n",
       "      <td>NaN</td>\n",
       "      <td>1912</td>\n",
       "      <td>59.332577</td>\n",
       "      <td>18.064903</td>\n",
       "    </tr>\n",
       "  </tbody>\n",
       "</table>\n",
       "</div>"
      ],
      "text/plain": [
       "        City         Country  noc Summer Winter  Year   Latitude  Longitude\n",
       "0     Athens          Greece  GRE      I    NaN  1896  37.983333  23.733334\n",
       "1      Paris          France  FRA     II    NaN  1900  48.853410   2.348800\n",
       "2  St. Louis   United States  USA    III    NaN  1904  38.627273 -90.197891\n",
       "3     London  United Kingdom  GBR     IV    NaN  1908  51.508415  -0.125533\n",
       "4  Stockholm          Sweden  SWE      V    NaN  1912  59.332577  18.064903"
      ]
     },
     "execution_count": 26,
     "metadata": {},
     "output_type": "execute_result"
    }
   ],
   "source": [
    "loc_data.set_index('City')\n",
    "loc_data.head()"
   ]
  },
  {
   "cell_type": "code",
   "execution_count": 45,
   "id": "7c1c6870",
   "metadata": {},
   "outputs": [
    {
     "data": {
      "text/html": [
       "<div>\n",
       "<style scoped>\n",
       "    .dataframe tbody tr th:only-of-type {\n",
       "        vertical-align: middle;\n",
       "    }\n",
       "\n",
       "    .dataframe tbody tr th {\n",
       "        vertical-align: top;\n",
       "    }\n",
       "\n",
       "    .dataframe thead th {\n",
       "        text-align: right;\n",
       "    }\n",
       "</style>\n",
       "<table border=\"1\" class=\"dataframe\">\n",
       "  <thead>\n",
       "    <tr style=\"text-align: right;\">\n",
       "      <th></th>\n",
       "      <th>City</th>\n",
       "      <th>Country</th>\n",
       "      <th>noc</th>\n",
       "      <th>Summer</th>\n",
       "      <th>Winter</th>\n",
       "      <th>Year</th>\n",
       "      <th>Latitude</th>\n",
       "      <th>Longitude</th>\n",
       "    </tr>\n",
       "  </thead>\n",
       "  <tbody>\n",
       "    <tr>\n",
       "      <th>10</th>\n",
       "      <td>Lake Placid</td>\n",
       "      <td>United States</td>\n",
       "      <td>USA</td>\n",
       "      <td>NaN</td>\n",
       "      <td>III</td>\n",
       "      <td>1932</td>\n",
       "      <td>27.2931</td>\n",
       "      <td>-81.362846</td>\n",
       "    </tr>\n",
       "    <tr>\n",
       "      <th>31</th>\n",
       "      <td>Lake Placid</td>\n",
       "      <td>United States</td>\n",
       "      <td>USA</td>\n",
       "      <td>NaN</td>\n",
       "      <td>XIII</td>\n",
       "      <td>1980</td>\n",
       "      <td>27.2931</td>\n",
       "      <td>-81.362846</td>\n",
       "    </tr>\n",
       "  </tbody>\n",
       "</table>\n",
       "</div>"
      ],
      "text/plain": [
       "           City        Country  noc Summer Winter  Year  Latitude  Longitude\n",
       "10  Lake Placid  United States  USA    NaN    III  1932   27.2931 -81.362846\n",
       "31  Lake Placid  United States  USA    NaN   XIII  1980   27.2931 -81.362846"
      ]
     },
     "execution_count": 45,
     "metadata": {},
     "output_type": "execute_result"
    }
   ],
   "source": [
    "\n",
    "loc_data[loc_data['City']=='Lake Placid']\n",
    "\n",
    "\n",
    "#'-81.36285': '73.9799'\n",
    "# loc_data.replace(int(27.2931), 44.2795)\n",
    "# loc_data.head()"
   ]
  },
  {
   "cell_type": "code",
   "execution_count": 46,
   "id": "5aa91db9",
   "metadata": {},
   "outputs": [
    {
     "data": {
      "text/plain": [
       "City          object\n",
       "Country       object\n",
       "noc           object\n",
       "Summer        object\n",
       "Winter        object\n",
       "Year           int64\n",
       "Latitude     float64\n",
       "Longitude    float64\n",
       "dtype: object"
      ]
     },
     "execution_count": 46,
     "metadata": {},
     "output_type": "execute_result"
    }
   ],
   "source": [
    "loc_data.dtypes"
   ]
  },
  {
   "cell_type": "code",
   "execution_count": null,
   "id": "e9b45314",
   "metadata": {},
   "outputs": [],
   "source": [
    "oly_data['City'].replace({'Athina': 'Athens', 'Moskva': 'Moscow', 'Sankt Moritz': 'St Moritz'}, inplace=True)"
   ]
  },
  {
   "cell_type": "code",
   "execution_count": 38,
   "id": "ada5a245",
   "metadata": {},
   "outputs": [
    {
     "data": {
      "application/vnd.plotly.v1+json": {
       "config": {
        "plotlyServerURL": "https://plot.ly"
       },
       "data": [
        {
         "customdata": [
          [
           "Athens"
          ],
          [
           "Athens"
          ]
         ],
         "hovertemplate": "<b>%{hovertext}</b><br><br>City=%{customdata[0]}<br>Year=%{marker.size}<br>Latitude=%{lat}<br>Longitude=%{lon}<extra></extra>",
         "hovertext": [
          "Athens",
          "Athens"
         ],
         "lat": [
          37.9833333,
          37.9833333
         ],
         "legendgroup": "Athens",
         "lon": [
          23.7333336,
          23.7333336
         ],
         "marker": {
          "color": "#636efa",
          "size": [
           1896,
           2004
          ],
          "sizemode": "area",
          "sizeref": 5.04
         },
         "mode": "markers",
         "name": "Athens",
         "showlegend": true,
         "subplot": "mapbox",
         "type": "scattermapbox"
        },
        {
         "customdata": [
          [
           "Paris"
          ],
          [
           "Paris"
          ]
         ],
         "hovertemplate": "<b>%{hovertext}</b><br><br>City=%{customdata[0]}<br>Year=%{marker.size}<br>Latitude=%{lat}<br>Longitude=%{lon}<extra></extra>",
         "hovertext": [
          "Paris",
          "Paris"
         ],
         "lat": [
          48.85341,
          48.85341
         ],
         "legendgroup": "Paris",
         "lon": [
          2.3487999,
          2.3487999
         ],
         "marker": {
          "color": "#EF553B",
          "size": [
           1900,
           1924
          ],
          "sizemode": "area",
          "sizeref": 5.04
         },
         "mode": "markers",
         "name": "Paris",
         "showlegend": true,
         "subplot": "mapbox",
         "type": "scattermapbox"
        },
        {
         "customdata": [
          [
           "St. Louis"
          ]
         ],
         "hovertemplate": "<b>%{hovertext}</b><br><br>City=%{customdata[0]}<br>Year=%{marker.size}<br>Latitude=%{lat}<br>Longitude=%{lon}<extra></extra>",
         "hovertext": [
          "St. Louis"
         ],
         "lat": [
          38.6272733
         ],
         "legendgroup": "St. Louis",
         "lon": [
          -90.1978912
         ],
         "marker": {
          "color": "#00cc96",
          "size": [
           1904
          ],
          "sizemode": "area",
          "sizeref": 5.04
         },
         "mode": "markers",
         "name": "St. Louis",
         "showlegend": true,
         "subplot": "mapbox",
         "type": "scattermapbox",
         "visible": "legendonly"
        },
        {
         "customdata": [
          [
           "London"
          ],
          [
           "London"
          ],
          [
           "London"
          ]
         ],
         "hovertemplate": "<b>%{hovertext}</b><br><br>City=%{customdata[0]}<br>Year=%{marker.size}<br>Latitude=%{lat}<br>Longitude=%{lon}<extra></extra>",
         "hovertext": [
          "London",
          "London",
          "London"
         ],
         "lat": [
          51.5084153,
          51.5084153,
          51.5084153
         ],
         "legendgroup": "London",
         "lon": [
          -0.1255327,
          -0.1255327,
          -0.1255327
         ],
         "marker": {
          "color": "#ab63fa",
          "size": [
           1908,
           1948,
           2012
          ],
          "sizemode": "area",
          "sizeref": 5.04
         },
         "mode": "markers",
         "name": "London",
         "showlegend": true,
         "subplot": "mapbox",
         "type": "scattermapbox"
        },
        {
         "customdata": [
          [
           "Stockholm"
          ],
          [
           "Stockholm"
          ]
         ],
         "hovertemplate": "<b>%{hovertext}</b><br><br>City=%{customdata[0]}<br>Year=%{marker.size}<br>Latitude=%{lat}<br>Longitude=%{lon}<extra></extra>",
         "hovertext": [
          "Stockholm",
          "Stockholm"
         ],
         "lat": [
          59.3325765,
          59.3325765
         ],
         "legendgroup": "Stockholm",
         "lon": [
          18.0649033,
          18.0649033
         ],
         "marker": {
          "color": "#FFA15A",
          "size": [
           1912,
           1956
          ],
          "sizemode": "area",
          "sizeref": 5.04
         },
         "mode": "markers",
         "name": "Stockholm",
         "showlegend": true,
         "subplot": "mapbox",
         "type": "scattermapbox"
        },
        {
         "customdata": [
          [
           "Antwerp"
          ]
         ],
         "hovertemplate": "<b>%{hovertext}</b><br><br>City=%{customdata[0]}<br>Year=%{marker.size}<br>Latitude=%{lat}<br>Longitude=%{lon}<extra></extra>",
         "hovertext": [
          "Antwerp"
         ],
         "lat": [
          51.2166667
         ],
         "legendgroup": "Antwerp",
         "lon": [
          4.4166665
         ],
         "marker": {
          "color": "#19d3f3",
          "size": [
           1920
          ],
          "sizemode": "area",
          "sizeref": 5.04
         },
         "mode": "markers",
         "name": "Antwerp",
         "showlegend": true,
         "subplot": "mapbox",
         "type": "scattermapbox"
        },
        {
         "customdata": [
          [
           "Chamonix"
          ]
         ],
         "hovertemplate": "<b>%{hovertext}</b><br><br>City=%{customdata[0]}<br>Year=%{marker.size}<br>Latitude=%{lat}<br>Longitude=%{lon}<extra></extra>",
         "hovertext": [
          "Chamonix"
         ],
         "lat": [
          45.9237
         ],
         "legendgroup": "Chamonix",
         "lon": [
          6.8694
         ],
         "marker": {
          "color": "#FF6692",
          "size": [
           1924
          ],
          "sizemode": "area",
          "sizeref": 5.04
         },
         "mode": "markers",
         "name": "Chamonix",
         "showlegend": true,
         "subplot": "mapbox",
         "type": "scattermapbox"
        },
        {
         "customdata": [
          [
           "St. Moritz"
          ],
          [
           "St. Moritz"
          ]
         ],
         "hovertemplate": "<b>%{hovertext}</b><br><br>City=%{customdata[0]}<br>Year=%{marker.size}<br>Latitude=%{lat}<br>Longitude=%{lon}<extra></extra>",
         "hovertext": [
          "St. Moritz",
          "St. Moritz"
         ],
         "lat": [
          46.4908,
          46.4908
         ],
         "legendgroup": "St. Moritz",
         "lon": [
          9.8355,
          9.8355
         ],
         "marker": {
          "color": "#B6E880",
          "size": [
           1928,
           1948
          ],
          "sizemode": "area",
          "sizeref": 5.04
         },
         "mode": "markers",
         "name": "St. Moritz",
         "showlegend": true,
         "subplot": "mapbox",
         "type": "scattermapbox"
        },
        {
         "customdata": [
          [
           "Amsterdam"
          ]
         ],
         "hovertemplate": "<b>%{hovertext}</b><br><br>City=%{customdata[0]}<br>Year=%{marker.size}<br>Latitude=%{lat}<br>Longitude=%{lon}<extra></extra>",
         "hovertext": [
          "Amsterdam"
         ],
         "lat": [
          52.3075
         ],
         "legendgroup": "Amsterdam",
         "lon": [
          4.9722219
         ],
         "marker": {
          "color": "#FF97FF",
          "size": [
           1928
          ],
          "sizemode": "area",
          "sizeref": 5.04
         },
         "mode": "markers",
         "name": "Amsterdam",
         "showlegend": true,
         "subplot": "mapbox",
         "type": "scattermapbox"
        },
        {
         "customdata": [
          [
           "Lake Placid"
          ],
          [
           "Lake Placid"
          ]
         ],
         "hovertemplate": "<b>%{hovertext}</b><br><br>City=%{customdata[0]}<br>Year=%{marker.size}<br>Latitude=%{lat}<br>Longitude=%{lon}<extra></extra>",
         "hovertext": [
          "Lake Placid",
          "Lake Placid"
         ],
         "lat": [
          27.2931,
          27.2931
         ],
         "legendgroup": "Lake Placid",
         "lon": [
          -81.362846,
          -81.362846
         ],
         "marker": {
          "color": "#FECB52",
          "size": [
           1932,
           1980
          ],
          "sizemode": "area",
          "sizeref": 5.04
         },
         "mode": "markers",
         "name": "Lake Placid",
         "showlegend": true,
         "subplot": "mapbox",
         "type": "scattermapbox"
        },
        {
         "customdata": [
          [
           "Los Angeles"
          ],
          [
           "Los Angeles"
          ]
         ],
         "hovertemplate": "<b>%{hovertext}</b><br><br>City=%{customdata[0]}<br>Year=%{marker.size}<br>Latitude=%{lat}<br>Longitude=%{lon}<extra></extra>",
         "hovertext": [
          "Los Angeles",
          "Los Angeles"
         ],
         "lat": [
          34.0522342,
          34.0522342
         ],
         "legendgroup": "Los Angeles",
         "lon": [
          -118.2436829,
          -118.2436829
         ],
         "marker": {
          "color": "#636efa",
          "size": [
           1932,
           1984
          ],
          "sizemode": "area",
          "sizeref": 5.04
         },
         "mode": "markers",
         "name": "Los Angeles",
         "showlegend": true,
         "subplot": "mapbox",
         "type": "scattermapbox"
        },
        {
         "customdata": [
          [
           "Garmisch-Partenkirchen"
          ]
         ],
         "hovertemplate": "<b>%{hovertext}</b><br><br>City=%{customdata[0]}<br>Year=%{marker.size}<br>Latitude=%{lat}<br>Longitude=%{lon}<extra></extra>",
         "hovertext": [
          "Garmisch-Partenkirchen"
         ],
         "lat": [
          47.49209
         ],
         "legendgroup": "Garmisch-Partenkirchen",
         "lon": [
          11.09576
         ],
         "marker": {
          "color": "#EF553B",
          "size": [
           1936
          ],
          "sizemode": "area",
          "sizeref": 5.04
         },
         "mode": "markers",
         "name": "Garmisch-Partenkirchen",
         "showlegend": true,
         "subplot": "mapbox",
         "type": "scattermapbox"
        },
        {
         "customdata": [
          [
           "Berlin"
          ]
         ],
         "hovertemplate": "<b>%{hovertext}</b><br><br>City=%{customdata[0]}<br>Year=%{marker.size}<br>Latitude=%{lat}<br>Longitude=%{lon}<extra></extra>",
         "hovertext": [
          "Berlin"
         ],
         "lat": [
          52.5166667
         ],
         "legendgroup": "Berlin",
         "lon": [
          13.3999996
         ],
         "marker": {
          "color": "#00cc96",
          "size": [
           1936
          ],
          "sizemode": "area",
          "sizeref": 5.04
         },
         "mode": "markers",
         "name": "Berlin",
         "showlegend": true,
         "subplot": "mapbox",
         "type": "scattermapbox"
        },
        {
         "customdata": [
          [
           "Oslo"
          ]
         ],
         "hovertemplate": "<b>%{hovertext}</b><br><br>City=%{customdata[0]}<br>Year=%{marker.size}<br>Latitude=%{lat}<br>Longitude=%{lon}<extra></extra>",
         "hovertext": [
          "Oslo"
         ],
         "lat": [
          60.1755556
         ],
         "legendgroup": "Oslo",
         "lon": [
          24.934166
         ],
         "marker": {
          "color": "#ab63fa",
          "size": [
           1952
          ],
          "sizemode": "area",
          "sizeref": 5.04
         },
         "mode": "markers",
         "name": "Oslo",
         "showlegend": true,
         "subplot": "mapbox",
         "type": "scattermapbox"
        },
        {
         "customdata": [
          [
           "Helsinki"
          ]
         ],
         "hovertemplate": "<b>%{hovertext}</b><br><br>City=%{customdata[0]}<br>Year=%{marker.size}<br>Latitude=%{lat}<br>Longitude=%{lon}<extra></extra>",
         "hovertext": [
          "Helsinki"
         ],
         "lat": [
          60.1699
         ],
         "legendgroup": "Helsinki",
         "lon": [
          24.9384
         ],
         "marker": {
          "color": "#FFA15A",
          "size": [
           1952
          ],
          "sizemode": "area",
          "sizeref": 5.04
         },
         "mode": "markers",
         "name": "Helsinki",
         "showlegend": true,
         "subplot": "mapbox",
         "type": "scattermapbox"
        },
        {
         "customdata": [
          [
           "Cortina d'Ampezzo"
          ]
         ],
         "hovertemplate": "<b>%{hovertext}</b><br><br>City=%{customdata[0]}<br>Year=%{marker.size}<br>Latitude=%{lat}<br>Longitude=%{lon}<extra></extra>",
         "hovertext": [
          "Cortina d'Ampezzo"
         ],
         "lat": [
          46.5405
         ],
         "legendgroup": "Cortina d'Ampezzo",
         "lon": [
          12.1357
         ],
         "marker": {
          "color": "#19d3f3",
          "size": [
           1956
          ],
          "sizemode": "area",
          "sizeref": 5.04
         },
         "mode": "markers",
         "name": "Cortina d'Ampezzo",
         "showlegend": true,
         "subplot": "mapbox",
         "type": "scattermapbox"
        },
        {
         "customdata": [
          [
           "Melbourne"
          ]
         ],
         "hovertemplate": "<b>%{hovertext}</b><br><br>City=%{customdata[0]}<br>Year=%{marker.size}<br>Latitude=%{lat}<br>Longitude=%{lon}<extra></extra>",
         "hovertext": [
          "Melbourne"
         ],
         "lat": [
          -37.8139966
         ],
         "legendgroup": "Melbourne",
         "lon": [
          144.9633179
         ],
         "marker": {
          "color": "#FF6692",
          "size": [
           1956
          ],
          "sizemode": "area",
          "sizeref": 5.04
         },
         "mode": "markers",
         "name": "Melbourne",
         "showlegend": true,
         "subplot": "mapbox",
         "type": "scattermapbox"
        },
        {
         "customdata": [
          [
           "Squaw Valley"
          ]
         ],
         "hovertemplate": "<b>%{hovertext}</b><br><br>City=%{customdata[0]}<br>Year=%{marker.size}<br>Latitude=%{lat}<br>Longitude=%{lon}<extra></extra>",
         "hovertext": [
          "Squaw Valley"
         ],
         "lat": [
          39.1963
         ],
         "legendgroup": "Squaw Valley",
         "lon": [
          -120.2336
         ],
         "marker": {
          "color": "#B6E880",
          "size": [
           1960
          ],
          "sizemode": "area",
          "sizeref": 5.04
         },
         "mode": "markers",
         "name": "Squaw Valley",
         "showlegend": true,
         "subplot": "mapbox",
         "type": "scattermapbox"
        },
        {
         "customdata": [
          [
           "Rome"
          ]
         ],
         "hovertemplate": "<b>%{hovertext}</b><br><br>City=%{customdata[0]}<br>Year=%{marker.size}<br>Latitude=%{lat}<br>Longitude=%{lon}<extra></extra>",
         "hovertext": [
          "Rome"
         ],
         "lat": [
          41.9
         ],
         "legendgroup": "Rome",
         "lon": [
          12.4833336
         ],
         "marker": {
          "color": "#FF97FF",
          "size": [
           1960
          ],
          "sizemode": "area",
          "sizeref": 5.04
         },
         "mode": "markers",
         "name": "Rome",
         "showlegend": true,
         "subplot": "mapbox",
         "type": "scattermapbox"
        },
        {
         "customdata": [
          [
           "Innsbruck"
          ],
          [
           "Innsbruck"
          ]
         ],
         "hovertemplate": "<b>%{hovertext}</b><br><br>City=%{customdata[0]}<br>Year=%{marker.size}<br>Latitude=%{lat}<br>Longitude=%{lon}<extra></extra>",
         "hovertext": [
          "Innsbruck",
          "Innsbruck"
         ],
         "lat": [
          47.2666667,
          47.2666667
         ],
         "legendgroup": "Innsbruck",
         "lon": [
          11.3999996,
          11.3999996
         ],
         "marker": {
          "color": "#FECB52",
          "size": [
           1964,
           1976
          ],
          "sizemode": "area",
          "sizeref": 5.04
         },
         "mode": "markers",
         "name": "Innsbruck",
         "showlegend": true,
         "subplot": "mapbox",
         "type": "scattermapbox"
        },
        {
         "customdata": [
          [
           "Tokyo"
          ]
         ],
         "hovertemplate": "<b>%{hovertext}</b><br><br>City=%{customdata[0]}<br>Year=%{marker.size}<br>Latitude=%{lat}<br>Longitude=%{lon}<extra></extra>",
         "hovertext": [
          "Tokyo"
         ],
         "lat": [
          35.6895266
         ],
         "legendgroup": "Tokyo",
         "lon": [
          139.6916809
         ],
         "marker": {
          "color": "#636efa",
          "size": [
           1964
          ],
          "sizemode": "area",
          "sizeref": 5.04
         },
         "mode": "markers",
         "name": "Tokyo",
         "showlegend": true,
         "subplot": "mapbox",
         "type": "scattermapbox"
        },
        {
         "customdata": [
          [
           "Grenoble"
          ]
         ],
         "hovertemplate": "<b>%{hovertext}</b><br><br>City=%{customdata[0]}<br>Year=%{marker.size}<br>Latitude=%{lat}<br>Longitude=%{lon}<extra></extra>",
         "hovertext": [
          "Grenoble"
         ],
         "lat": [
          45.1666667
         ],
         "legendgroup": "Grenoble",
         "lon": [
          5.7166667
         ],
         "marker": {
          "color": "#EF553B",
          "size": [
           1968
          ],
          "sizemode": "area",
          "sizeref": 5.04
         },
         "mode": "markers",
         "name": "Grenoble",
         "showlegend": true,
         "subplot": "mapbox",
         "type": "scattermapbox"
        },
        {
         "customdata": [
          [
           "Mexico City"
          ]
         ],
         "hovertemplate": "<b>%{hovertext}</b><br><br>City=%{customdata[0]}<br>Year=%{marker.size}<br>Latitude=%{lat}<br>Longitude=%{lon}<extra></extra>",
         "hovertext": [
          "Mexico City"
         ],
         "lat": [
          19.4341667
         ],
         "legendgroup": "Mexico City",
         "lon": [
          -99.1386108
         ],
         "marker": {
          "color": "#00cc96",
          "size": [
           1968
          ],
          "sizemode": "area",
          "sizeref": 5.04
         },
         "mode": "markers",
         "name": "Mexico City",
         "showlegend": true,
         "subplot": "mapbox",
         "type": "scattermapbox"
        },
        {
         "customdata": [
          [
           "Sapporo"
          ]
         ],
         "hovertemplate": "<b>%{hovertext}</b><br><br>City=%{customdata[0]}<br>Year=%{marker.size}<br>Latitude=%{lat}<br>Longitude=%{lon}<extra></extra>",
         "hovertext": [
          "Sapporo"
         ],
         "lat": [
          43.0547222
         ],
         "legendgroup": "Sapporo",
         "lon": [
          141.3538818
         ],
         "marker": {
          "color": "#ab63fa",
          "size": [
           1972
          ],
          "sizemode": "area",
          "sizeref": 5.04
         },
         "mode": "markers",
         "name": "Sapporo",
         "showlegend": true,
         "subplot": "mapbox",
         "type": "scattermapbox"
        },
        {
         "customdata": [
          [
           "Munich"
          ]
         ],
         "hovertemplate": "<b>%{hovertext}</b><br><br>City=%{customdata[0]}<br>Year=%{marker.size}<br>Latitude=%{lat}<br>Longitude=%{lon}<extra></extra>",
         "hovertext": [
          "Munich"
         ],
         "lat": [
          48.1351
         ],
         "legendgroup": "Munich",
         "lon": [
          11.582
         ],
         "marker": {
          "color": "#FFA15A",
          "size": [
           1972
          ],
          "sizemode": "area",
          "sizeref": 5.04
         },
         "mode": "markers",
         "name": "Munich",
         "showlegend": true,
         "subplot": "mapbox",
         "type": "scattermapbox"
        },
        {
         "customdata": [
          [
           "Montreal"
          ]
         ],
         "hovertemplate": "<b>%{hovertext}</b><br><br>City=%{customdata[0]}<br>Year=%{marker.size}<br>Latitude=%{lat}<br>Longitude=%{lon}<extra></extra>",
         "hovertext": [
          "Montreal"
         ],
         "lat": [
          45.5167792
         ],
         "legendgroup": "Montreal",
         "lon": [
          -73.6491776
         ],
         "marker": {
          "color": "#19d3f3",
          "size": [
           1976
          ],
          "sizemode": "area",
          "sizeref": 5.04
         },
         "mode": "markers",
         "name": "Montreal",
         "showlegend": true,
         "subplot": "mapbox",
         "type": "scattermapbox"
        },
        {
         "customdata": [
          [
           "Moscow"
          ]
         ],
         "hovertemplate": "<b>%{hovertext}</b><br><br>City=%{customdata[0]}<br>Year=%{marker.size}<br>Latitude=%{lat}<br>Longitude=%{lon}<extra></extra>",
         "hovertext": [
          "Moscow"
         ],
         "lat": [
          55.7522222
         ],
         "legendgroup": "Moscow",
         "lon": [
          37.6155548
         ],
         "marker": {
          "color": "#FF6692",
          "size": [
           1980
          ],
          "sizemode": "area",
          "sizeref": 5.04
         },
         "mode": "markers",
         "name": "Moscow",
         "showlegend": true,
         "subplot": "mapbox",
         "type": "scattermapbox"
        },
        {
         "customdata": [
          [
           "Sarajevo"
          ]
         ],
         "hovertemplate": "<b>%{hovertext}</b><br><br>City=%{customdata[0]}<br>Year=%{marker.size}<br>Latitude=%{lat}<br>Longitude=%{lon}<extra></extra>",
         "hovertext": [
          "Sarajevo"
         ],
         "lat": [
          43.85
         ],
         "legendgroup": "Sarajevo",
         "lon": [
          18.3833332
         ],
         "marker": {
          "color": "#B6E880",
          "size": [
           1984
          ],
          "sizemode": "area",
          "sizeref": 5.04
         },
         "mode": "markers",
         "name": "Sarajevo",
         "showlegend": true,
         "subplot": "mapbox",
         "type": "scattermapbox"
        },
        {
         "customdata": [
          [
           "Calgary"
          ]
         ],
         "hovertemplate": "<b>%{hovertext}</b><br><br>City=%{customdata[0]}<br>Year=%{marker.size}<br>Latitude=%{lat}<br>Longitude=%{lon}<extra></extra>",
         "hovertext": [
          "Calgary"
         ],
         "lat": [
          51.0501123
         ],
         "legendgroup": "Calgary",
         "lon": [
          -114.085289
         ],
         "marker": {
          "color": "#FF97FF",
          "size": [
           1988
          ],
          "sizemode": "area",
          "sizeref": 5.04
         },
         "mode": "markers",
         "name": "Calgary",
         "showlegend": true,
         "subplot": "mapbox",
         "type": "scattermapbox"
        },
        {
         "customdata": [
          [
           "Seoul"
          ]
         ],
         "hovertemplate": "<b>%{hovertext}</b><br><br>City=%{customdata[0]}<br>Year=%{marker.size}<br>Latitude=%{lat}<br>Longitude=%{lon}<extra></extra>",
         "hovertext": [
          "Seoul"
         ],
         "lat": [
          37.5663889
         ],
         "legendgroup": "Seoul",
         "lon": [
          126.9997253
         ],
         "marker": {
          "color": "#FECB52",
          "size": [
           1988
          ],
          "sizemode": "area",
          "sizeref": 5.04
         },
         "mode": "markers",
         "name": "Seoul",
         "showlegend": true,
         "subplot": "mapbox",
         "type": "scattermapbox"
        },
        {
         "customdata": [
          [
           "Albertville"
          ]
         ],
         "hovertemplate": "<b>%{hovertext}</b><br><br>City=%{customdata[0]}<br>Year=%{marker.size}<br>Latitude=%{lat}<br>Longitude=%{lon}<extra></extra>",
         "hovertext": [
          "Albertville"
         ],
         "lat": [
          45.6755
         ],
         "legendgroup": "Albertville",
         "lon": [
          6.3927
         ],
         "marker": {
          "color": "#636efa",
          "size": [
           1992
          ],
          "sizemode": "area",
          "sizeref": 5.04
         },
         "mode": "markers",
         "name": "Albertville",
         "showlegend": true,
         "subplot": "mapbox",
         "type": "scattermapbox"
        },
        {
         "customdata": [
          [
           "Barcelona"
          ]
         ],
         "hovertemplate": "<b>%{hovertext}</b><br><br>City=%{customdata[0]}<br>Year=%{marker.size}<br>Latitude=%{lat}<br>Longitude=%{lon}<extra></extra>",
         "hovertext": [
          "Barcelona"
         ],
         "lat": [
          41.3887869
         ],
         "legendgroup": "Barcelona",
         "lon": [
          2.1589851
         ],
         "marker": {
          "color": "#EF553B",
          "size": [
           1992
          ],
          "sizemode": "area",
          "sizeref": 5.04
         },
         "mode": "markers",
         "name": "Barcelona",
         "showlegend": true,
         "subplot": "mapbox",
         "type": "scattermapbox"
        },
        {
         "customdata": [
          [
           "Lillehammer"
          ]
         ],
         "hovertemplate": "<b>%{hovertext}</b><br><br>City=%{customdata[0]}<br>Year=%{marker.size}<br>Latitude=%{lat}<br>Longitude=%{lon}<extra></extra>",
         "hovertext": [
          "Lillehammer"
         ],
         "lat": [
          61.1153
         ],
         "legendgroup": "Lillehammer",
         "lon": [
          10.4662
         ],
         "marker": {
          "color": "#00cc96",
          "size": [
           1994
          ],
          "sizemode": "area",
          "sizeref": 5.04
         },
         "mode": "markers",
         "name": "Lillehammer",
         "showlegend": true,
         "subplot": "mapbox",
         "type": "scattermapbox"
        },
        {
         "customdata": [
          [
           "Atlanta"
          ]
         ],
         "hovertemplate": "<b>%{hovertext}</b><br><br>City=%{customdata[0]}<br>Year=%{marker.size}<br>Latitude=%{lat}<br>Longitude=%{lon}<extra></extra>",
         "hovertext": [
          "Atlanta"
         ],
         "lat": [
          33.7489954
         ],
         "legendgroup": "Atlanta",
         "lon": [
          -84.3879852
         ],
         "marker": {
          "color": "#ab63fa",
          "size": [
           1996
          ],
          "sizemode": "area",
          "sizeref": 5.04
         },
         "mode": "markers",
         "name": "Atlanta",
         "showlegend": true,
         "subplot": "mapbox",
         "type": "scattermapbox"
        },
        {
         "customdata": [
          [
           "Nagano"
          ]
         ],
         "hovertemplate": "<b>%{hovertext}</b><br><br>City=%{customdata[0]}<br>Year=%{marker.size}<br>Latitude=%{lat}<br>Longitude=%{lon}<extra></extra>",
         "hovertext": [
          "Nagano"
         ],
         "lat": [
          36.65
         ],
         "legendgroup": "Nagano",
         "lon": [
          138.1833344
         ],
         "marker": {
          "color": "#FFA15A",
          "size": [
           1998
          ],
          "sizemode": "area",
          "sizeref": 5.04
         },
         "mode": "markers",
         "name": "Nagano",
         "showlegend": true,
         "subplot": "mapbox",
         "type": "scattermapbox"
        },
        {
         "customdata": [
          [
           "Sydney"
          ]
         ],
         "hovertemplate": "<b>%{hovertext}</b><br><br>City=%{customdata[0]}<br>Year=%{marker.size}<br>Latitude=%{lat}<br>Longitude=%{lon}<extra></extra>",
         "hovertext": [
          "Sydney"
         ],
         "lat": [
          -33.86785
         ],
         "legendgroup": "Sydney",
         "lon": [
          151.2073212
         ],
         "marker": {
          "color": "#19d3f3",
          "size": [
           2000
          ],
          "sizemode": "area",
          "sizeref": 5.04
         },
         "mode": "markers",
         "name": "Sydney",
         "showlegend": true,
         "subplot": "mapbox",
         "type": "scattermapbox"
        },
        {
         "customdata": [
          [
           "Salt Lake City"
          ]
         ],
         "hovertemplate": "<b>%{hovertext}</b><br><br>City=%{customdata[0]}<br>Year=%{marker.size}<br>Latitude=%{lat}<br>Longitude=%{lon}<extra></extra>",
         "hovertext": [
          "Salt Lake City"
         ],
         "lat": [
          40.758701
         ],
         "legendgroup": "Salt Lake City",
         "lon": [
          -111.876183
         ],
         "marker": {
          "color": "#FF6692",
          "size": [
           2002
          ],
          "sizemode": "area",
          "sizeref": 5.04
         },
         "mode": "markers",
         "name": "Salt Lake City",
         "showlegend": true,
         "subplot": "mapbox",
         "type": "scattermapbox"
        },
        {
         "customdata": [
          [
           "Turin"
          ]
         ],
         "hovertemplate": "<b>%{hovertext}</b><br><br>City=%{customdata[0]}<br>Year=%{marker.size}<br>Latitude=%{lat}<br>Longitude=%{lon}<extra></extra>",
         "hovertext": [
          "Turin"
         ],
         "lat": [
          45.0703
         ],
         "legendgroup": "Turin",
         "lon": [
          7.6869
         ],
         "marker": {
          "color": "#B6E880",
          "size": [
           2006
          ],
          "sizemode": "area",
          "sizeref": 5.04
         },
         "mode": "markers",
         "name": "Turin",
         "showlegend": true,
         "subplot": "mapbox",
         "type": "scattermapbox"
        },
        {
         "customdata": [
          [
           "Beijing"
          ]
         ],
         "hovertemplate": "<b>%{hovertext}</b><br><br>City=%{customdata[0]}<br>Year=%{marker.size}<br>Latitude=%{lat}<br>Longitude=%{lon}<extra></extra>",
         "hovertext": [
          "Beijing"
         ],
         "lat": [
          39.9074977
         ],
         "legendgroup": "Beijing",
         "lon": [
          116.3972244
         ],
         "marker": {
          "color": "#FF97FF",
          "size": [
           2008
          ],
          "sizemode": "area",
          "sizeref": 5.04
         },
         "mode": "markers",
         "name": "Beijing",
         "showlegend": true,
         "subplot": "mapbox",
         "type": "scattermapbox"
        },
        {
         "customdata": [
          [
           "Vancouver"
          ]
         ],
         "hovertemplate": "<b>%{hovertext}</b><br><br>City=%{customdata[0]}<br>Year=%{marker.size}<br>Latitude=%{lat}<br>Longitude=%{lon}<extra></extra>",
         "hovertext": [
          "Vancouver"
         ],
         "lat": [
          49.2496574
         ],
         "legendgroup": "Vancouver",
         "lon": [
          -123.119339
         ],
         "marker": {
          "color": "#FECB52",
          "size": [
           2010
          ],
          "sizemode": "area",
          "sizeref": 5.04
         },
         "mode": "markers",
         "name": "Vancouver",
         "showlegend": true,
         "subplot": "mapbox",
         "type": "scattermapbox"
        },
        {
         "customdata": [
          [
           "Sochi"
          ]
         ],
         "hovertemplate": "<b>%{hovertext}</b><br><br>City=%{customdata[0]}<br>Year=%{marker.size}<br>Latitude=%{lat}<br>Longitude=%{lon}<extra></extra>",
         "hovertext": [
          "Sochi"
         ],
         "lat": [
          43.6
         ],
         "legendgroup": "Sochi",
         "lon": [
          39.730278
         ],
         "marker": {
          "color": "#636efa",
          "size": [
           2014
          ],
          "sizemode": "area",
          "sizeref": 5.04
         },
         "mode": "markers",
         "name": "Sochi",
         "showlegend": true,
         "subplot": "mapbox",
         "type": "scattermapbox"
        },
        {
         "customdata": [
          [
           "Rio de Janeiro"
          ]
         ],
         "hovertemplate": "<b>%{hovertext}</b><br><br>City=%{customdata[0]}<br>Year=%{marker.size}<br>Latitude=%{lat}<br>Longitude=%{lon}<extra></extra>",
         "hovertext": [
          "Rio de Janeiro"
         ],
         "lat": [
          -22.9027778
         ],
         "legendgroup": "Rio de Janeiro",
         "lon": [
          -43.2075005
         ],
         "marker": {
          "color": "#EF553B",
          "size": [
           2016
          ],
          "sizemode": "area",
          "sizeref": 5.04
         },
         "mode": "markers",
         "name": "Rio de Janeiro",
         "showlegend": true,
         "subplot": "mapbox",
         "type": "scattermapbox"
        }
       ],
       "layout": {
        "autosize": true,
        "legend": {
         "itemsizing": "constant",
         "title": {
          "text": "City"
         },
         "tracegroupgap": 0
        },
        "mapbox": {
         "accesstoken": "pk.eyJ1IjoiY2Fjb250b3MiLCJhIjoiY2t5dGVkMjQyMDNzYzJvbWtzejFzNTd6MiJ9.D_FYXd684hIwPT1oBVS7IQ",
         "bearing": 0,
         "center": {
          "lat": 52.92129470255202,
          "lon": 35.979002309356474
         },
         "domain": {
          "x": [
           0,
           1
          ],
          "y": [
           0,
           1
          ]
         },
         "pitch": 0,
         "zoom": 1.2640044733887061
        },
        "template": {
         "data": {
          "bar": [
           {
            "error_x": {
             "color": "#2a3f5f"
            },
            "error_y": {
             "color": "#2a3f5f"
            },
            "marker": {
             "line": {
              "color": "#E5ECF6",
              "width": 0.5
             },
             "pattern": {
              "fillmode": "overlay",
              "size": 10,
              "solidity": 0.2
             }
            },
            "type": "bar"
           }
          ],
          "barpolar": [
           {
            "marker": {
             "line": {
              "color": "#E5ECF6",
              "width": 0.5
             },
             "pattern": {
              "fillmode": "overlay",
              "size": 10,
              "solidity": 0.2
             }
            },
            "type": "barpolar"
           }
          ],
          "carpet": [
           {
            "aaxis": {
             "endlinecolor": "#2a3f5f",
             "gridcolor": "white",
             "linecolor": "white",
             "minorgridcolor": "white",
             "startlinecolor": "#2a3f5f"
            },
            "baxis": {
             "endlinecolor": "#2a3f5f",
             "gridcolor": "white",
             "linecolor": "white",
             "minorgridcolor": "white",
             "startlinecolor": "#2a3f5f"
            },
            "type": "carpet"
           }
          ],
          "choropleth": [
           {
            "colorbar": {
             "outlinewidth": 0,
             "ticks": ""
            },
            "type": "choropleth"
           }
          ],
          "contour": [
           {
            "colorbar": {
             "outlinewidth": 0,
             "ticks": ""
            },
            "colorscale": [
             [
              0,
              "#0d0887"
             ],
             [
              0.1111111111111111,
              "#46039f"
             ],
             [
              0.2222222222222222,
              "#7201a8"
             ],
             [
              0.3333333333333333,
              "#9c179e"
             ],
             [
              0.4444444444444444,
              "#bd3786"
             ],
             [
              0.5555555555555556,
              "#d8576b"
             ],
             [
              0.6666666666666666,
              "#ed7953"
             ],
             [
              0.7777777777777778,
              "#fb9f3a"
             ],
             [
              0.8888888888888888,
              "#fdca26"
             ],
             [
              1,
              "#f0f921"
             ]
            ],
            "type": "contour"
           }
          ],
          "contourcarpet": [
           {
            "colorbar": {
             "outlinewidth": 0,
             "ticks": ""
            },
            "type": "contourcarpet"
           }
          ],
          "heatmap": [
           {
            "colorbar": {
             "outlinewidth": 0,
             "ticks": ""
            },
            "colorscale": [
             [
              0,
              "#0d0887"
             ],
             [
              0.1111111111111111,
              "#46039f"
             ],
             [
              0.2222222222222222,
              "#7201a8"
             ],
             [
              0.3333333333333333,
              "#9c179e"
             ],
             [
              0.4444444444444444,
              "#bd3786"
             ],
             [
              0.5555555555555556,
              "#d8576b"
             ],
             [
              0.6666666666666666,
              "#ed7953"
             ],
             [
              0.7777777777777778,
              "#fb9f3a"
             ],
             [
              0.8888888888888888,
              "#fdca26"
             ],
             [
              1,
              "#f0f921"
             ]
            ],
            "type": "heatmap"
           }
          ],
          "heatmapgl": [
           {
            "colorbar": {
             "outlinewidth": 0,
             "ticks": ""
            },
            "colorscale": [
             [
              0,
              "#0d0887"
             ],
             [
              0.1111111111111111,
              "#46039f"
             ],
             [
              0.2222222222222222,
              "#7201a8"
             ],
             [
              0.3333333333333333,
              "#9c179e"
             ],
             [
              0.4444444444444444,
              "#bd3786"
             ],
             [
              0.5555555555555556,
              "#d8576b"
             ],
             [
              0.6666666666666666,
              "#ed7953"
             ],
             [
              0.7777777777777778,
              "#fb9f3a"
             ],
             [
              0.8888888888888888,
              "#fdca26"
             ],
             [
              1,
              "#f0f921"
             ]
            ],
            "type": "heatmapgl"
           }
          ],
          "histogram": [
           {
            "marker": {
             "pattern": {
              "fillmode": "overlay",
              "size": 10,
              "solidity": 0.2
             }
            },
            "type": "histogram"
           }
          ],
          "histogram2d": [
           {
            "colorbar": {
             "outlinewidth": 0,
             "ticks": ""
            },
            "colorscale": [
             [
              0,
              "#0d0887"
             ],
             [
              0.1111111111111111,
              "#46039f"
             ],
             [
              0.2222222222222222,
              "#7201a8"
             ],
             [
              0.3333333333333333,
              "#9c179e"
             ],
             [
              0.4444444444444444,
              "#bd3786"
             ],
             [
              0.5555555555555556,
              "#d8576b"
             ],
             [
              0.6666666666666666,
              "#ed7953"
             ],
             [
              0.7777777777777778,
              "#fb9f3a"
             ],
             [
              0.8888888888888888,
              "#fdca26"
             ],
             [
              1,
              "#f0f921"
             ]
            ],
            "type": "histogram2d"
           }
          ],
          "histogram2dcontour": [
           {
            "colorbar": {
             "outlinewidth": 0,
             "ticks": ""
            },
            "colorscale": [
             [
              0,
              "#0d0887"
             ],
             [
              0.1111111111111111,
              "#46039f"
             ],
             [
              0.2222222222222222,
              "#7201a8"
             ],
             [
              0.3333333333333333,
              "#9c179e"
             ],
             [
              0.4444444444444444,
              "#bd3786"
             ],
             [
              0.5555555555555556,
              "#d8576b"
             ],
             [
              0.6666666666666666,
              "#ed7953"
             ],
             [
              0.7777777777777778,
              "#fb9f3a"
             ],
             [
              0.8888888888888888,
              "#fdca26"
             ],
             [
              1,
              "#f0f921"
             ]
            ],
            "type": "histogram2dcontour"
           }
          ],
          "mesh3d": [
           {
            "colorbar": {
             "outlinewidth": 0,
             "ticks": ""
            },
            "type": "mesh3d"
           }
          ],
          "parcoords": [
           {
            "line": {
             "colorbar": {
              "outlinewidth": 0,
              "ticks": ""
             }
            },
            "type": "parcoords"
           }
          ],
          "pie": [
           {
            "automargin": true,
            "type": "pie"
           }
          ],
          "scatter": [
           {
            "marker": {
             "colorbar": {
              "outlinewidth": 0,
              "ticks": ""
             }
            },
            "type": "scatter"
           }
          ],
          "scatter3d": [
           {
            "line": {
             "colorbar": {
              "outlinewidth": 0,
              "ticks": ""
             }
            },
            "marker": {
             "colorbar": {
              "outlinewidth": 0,
              "ticks": ""
             }
            },
            "type": "scatter3d"
           }
          ],
          "scattercarpet": [
           {
            "marker": {
             "colorbar": {
              "outlinewidth": 0,
              "ticks": ""
             }
            },
            "type": "scattercarpet"
           }
          ],
          "scattergeo": [
           {
            "marker": {
             "colorbar": {
              "outlinewidth": 0,
              "ticks": ""
             }
            },
            "type": "scattergeo"
           }
          ],
          "scattergl": [
           {
            "marker": {
             "colorbar": {
              "outlinewidth": 0,
              "ticks": ""
             }
            },
            "type": "scattergl"
           }
          ],
          "scattermapbox": [
           {
            "marker": {
             "colorbar": {
              "outlinewidth": 0,
              "ticks": ""
             }
            },
            "type": "scattermapbox"
           }
          ],
          "scatterpolar": [
           {
            "marker": {
             "colorbar": {
              "outlinewidth": 0,
              "ticks": ""
             }
            },
            "type": "scatterpolar"
           }
          ],
          "scatterpolargl": [
           {
            "marker": {
             "colorbar": {
              "outlinewidth": 0,
              "ticks": ""
             }
            },
            "type": "scatterpolargl"
           }
          ],
          "scatterternary": [
           {
            "marker": {
             "colorbar": {
              "outlinewidth": 0,
              "ticks": ""
             }
            },
            "type": "scatterternary"
           }
          ],
          "surface": [
           {
            "colorbar": {
             "outlinewidth": 0,
             "ticks": ""
            },
            "colorscale": [
             [
              0,
              "#0d0887"
             ],
             [
              0.1111111111111111,
              "#46039f"
             ],
             [
              0.2222222222222222,
              "#7201a8"
             ],
             [
              0.3333333333333333,
              "#9c179e"
             ],
             [
              0.4444444444444444,
              "#bd3786"
             ],
             [
              0.5555555555555556,
              "#d8576b"
             ],
             [
              0.6666666666666666,
              "#ed7953"
             ],
             [
              0.7777777777777778,
              "#fb9f3a"
             ],
             [
              0.8888888888888888,
              "#fdca26"
             ],
             [
              1,
              "#f0f921"
             ]
            ],
            "type": "surface"
           }
          ],
          "table": [
           {
            "cells": {
             "fill": {
              "color": "#EBF0F8"
             },
             "line": {
              "color": "white"
             }
            },
            "header": {
             "fill": {
              "color": "#C8D4E3"
             },
             "line": {
              "color": "white"
             }
            },
            "type": "table"
           }
          ]
         },
         "layout": {
          "annotationdefaults": {
           "arrowcolor": "#2a3f5f",
           "arrowhead": 0,
           "arrowwidth": 1
          },
          "autotypenumbers": "strict",
          "coloraxis": {
           "colorbar": {
            "outlinewidth": 0,
            "ticks": ""
           }
          },
          "colorscale": {
           "diverging": [
            [
             0,
             "#8e0152"
            ],
            [
             0.1,
             "#c51b7d"
            ],
            [
             0.2,
             "#de77ae"
            ],
            [
             0.3,
             "#f1b6da"
            ],
            [
             0.4,
             "#fde0ef"
            ],
            [
             0.5,
             "#f7f7f7"
            ],
            [
             0.6,
             "#e6f5d0"
            ],
            [
             0.7,
             "#b8e186"
            ],
            [
             0.8,
             "#7fbc41"
            ],
            [
             0.9,
             "#4d9221"
            ],
            [
             1,
             "#276419"
            ]
           ],
           "sequential": [
            [
             0,
             "#0d0887"
            ],
            [
             0.1111111111111111,
             "#46039f"
            ],
            [
             0.2222222222222222,
             "#7201a8"
            ],
            [
             0.3333333333333333,
             "#9c179e"
            ],
            [
             0.4444444444444444,
             "#bd3786"
            ],
            [
             0.5555555555555556,
             "#d8576b"
            ],
            [
             0.6666666666666666,
             "#ed7953"
            ],
            [
             0.7777777777777778,
             "#fb9f3a"
            ],
            [
             0.8888888888888888,
             "#fdca26"
            ],
            [
             1,
             "#f0f921"
            ]
           ],
           "sequentialminus": [
            [
             0,
             "#0d0887"
            ],
            [
             0.1111111111111111,
             "#46039f"
            ],
            [
             0.2222222222222222,
             "#7201a8"
            ],
            [
             0.3333333333333333,
             "#9c179e"
            ],
            [
             0.4444444444444444,
             "#bd3786"
            ],
            [
             0.5555555555555556,
             "#d8576b"
            ],
            [
             0.6666666666666666,
             "#ed7953"
            ],
            [
             0.7777777777777778,
             "#fb9f3a"
            ],
            [
             0.8888888888888888,
             "#fdca26"
            ],
            [
             1,
             "#f0f921"
            ]
           ]
          },
          "colorway": [
           "#636efa",
           "#EF553B",
           "#00cc96",
           "#ab63fa",
           "#FFA15A",
           "#19d3f3",
           "#FF6692",
           "#B6E880",
           "#FF97FF",
           "#FECB52"
          ],
          "font": {
           "color": "#2a3f5f"
          },
          "geo": {
           "bgcolor": "white",
           "lakecolor": "white",
           "landcolor": "#E5ECF6",
           "showlakes": true,
           "showland": true,
           "subunitcolor": "white"
          },
          "hoverlabel": {
           "align": "left"
          },
          "hovermode": "closest",
          "mapbox": {
           "style": "light"
          },
          "paper_bgcolor": "white",
          "plot_bgcolor": "#E5ECF6",
          "polar": {
           "angularaxis": {
            "gridcolor": "white",
            "linecolor": "white",
            "ticks": ""
           },
           "bgcolor": "#E5ECF6",
           "radialaxis": {
            "gridcolor": "white",
            "linecolor": "white",
            "ticks": ""
           }
          },
          "scene": {
           "xaxis": {
            "backgroundcolor": "#E5ECF6",
            "gridcolor": "white",
            "gridwidth": 2,
            "linecolor": "white",
            "showbackground": true,
            "ticks": "",
            "zerolinecolor": "white"
           },
           "yaxis": {
            "backgroundcolor": "#E5ECF6",
            "gridcolor": "white",
            "gridwidth": 2,
            "linecolor": "white",
            "showbackground": true,
            "ticks": "",
            "zerolinecolor": "white"
           },
           "zaxis": {
            "backgroundcolor": "#E5ECF6",
            "gridcolor": "white",
            "gridwidth": 2,
            "linecolor": "white",
            "showbackground": true,
            "ticks": "",
            "zerolinecolor": "white"
           }
          },
          "shapedefaults": {
           "line": {
            "color": "#2a3f5f"
           }
          },
          "ternary": {
           "aaxis": {
            "gridcolor": "white",
            "linecolor": "white",
            "ticks": ""
           },
           "baxis": {
            "gridcolor": "white",
            "linecolor": "white",
            "ticks": ""
           },
           "bgcolor": "#E5ECF6",
           "caxis": {
            "gridcolor": "white",
            "linecolor": "white",
            "ticks": ""
           }
          },
          "title": {
           "x": 0.05
          },
          "xaxis": {
           "automargin": true,
           "gridcolor": "white",
           "linecolor": "white",
           "ticks": "",
           "title": {
            "standoff": 15
           },
           "zerolinecolor": "white",
           "zerolinewidth": 2
          },
          "yaxis": {
           "automargin": true,
           "gridcolor": "white",
           "linecolor": "white",
           "ticks": "",
           "title": {
            "standoff": 15
           },
           "zerolinecolor": "white",
           "zerolinewidth": 2
          }
         }
        },
        "title": {
         "text": "Cities that have hosted the Olympics"
        }
       }
      },
      "image/png": "[encoded data removed]",
      "text/html": [
       "<div>                            <div id=\"2e803568-9716-4c81-b650-30612067fc8f\" class=\"plotly-graph-div\" style=\"height:525px; width:100%;\"></div>            <script type=\"text/javascript\">                require([\"plotly\"], function(Plotly) {                    window.PLOTLYENV=window.PLOTLYENV || {};                                    if (document.getElementById(\"2e803568-9716-4c81-b650-30612067fc8f\")) {                    Plotly.newPlot(                        \"2e803568-9716-4c81-b650-30612067fc8f\",                        [{\"customdata\":[[\"Athens\"],[\"Athens\"]],\"hovertemplate\":\"<b>%{hovertext}</b><br><br>City=%{customdata[0]}<br>Year=%{marker.size}<br>Latitude=%{lat}<br>Longitude=%{lon}<extra></extra>\",\"hovertext\":[\"Athens\",\"Athens\"],\"lat\":[37.9833333,37.9833333],\"legendgroup\":\"Athens\",\"lon\":[23.7333336,23.7333336],\"marker\":{\"color\":\"#636efa\",\"size\":[1896,2004],\"sizemode\":\"area\",\"sizeref\":5.04},\"mode\":\"markers\",\"name\":\"Athens\",\"showlegend\":true,\"subplot\":\"mapbox\",\"type\":\"scattermapbox\"},{\"customdata\":[[\"Paris\"],[\"Paris\"]],\"hovertemplate\":\"<b>%{hovertext}</b><br><br>City=%{customdata[0]}<br>Year=%{marker.size}<br>Latitude=%{lat}<br>Longitude=%{lon}<extra></extra>\",\"hovertext\":[\"Paris\",\"Paris\"],\"lat\":[48.85341,48.85341],\"legendgroup\":\"Paris\",\"lon\":[2.3487999,2.3487999],\"marker\":{\"color\":\"#EF553B\",\"size\":[1900,1924],\"sizemode\":\"area\",\"sizeref\":5.04},\"mode\":\"markers\",\"name\":\"Paris\",\"showlegend\":true,\"subplot\":\"mapbox\",\"type\":\"scattermapbox\"},{\"customdata\":[[\"St. Louis\"]],\"hovertemplate\":\"<b>%{hovertext}</b><br><br>City=%{customdata[0]}<br>Year=%{marker.size}<br>Latitude=%{lat}<br>Longitude=%{lon}<extra></extra>\",\"hovertext\":[\"St. Louis\"],\"lat\":[38.6272733],\"legendgroup\":\"St. Louis\",\"lon\":[-90.1978912],\"marker\":{\"color\":\"#00cc96\",\"size\":[1904],\"sizemode\":\"area\",\"sizeref\":5.04},\"mode\":\"markers\",\"name\":\"St. Louis\",\"showlegend\":true,\"subplot\":\"mapbox\",\"type\":\"scattermapbox\"},{\"customdata\":[[\"London\"],[\"London\"],[\"London\"]],\"hovertemplate\":\"<b>%{hovertext}</b><br><br>City=%{customdata[0]}<br>Year=%{marker.size}<br>Latitude=%{lat}<br>Longitude=%{lon}<extra></extra>\",\"hovertext\":[\"London\",\"London\",\"London\"],\"lat\":[51.5084153,51.5084153,51.5084153],\"legendgroup\":\"London\",\"lon\":[-0.1255327,-0.1255327,-0.1255327],\"marker\":{\"color\":\"#ab63fa\",\"size\":[1908,1948,2012],\"sizemode\":\"area\",\"sizeref\":5.04},\"mode\":\"markers\",\"name\":\"London\",\"showlegend\":true,\"subplot\":\"mapbox\",\"type\":\"scattermapbox\"},{\"customdata\":[[\"Stockholm\"],[\"Stockholm\"]],\"hovertemplate\":\"<b>%{hovertext}</b><br><br>City=%{customdata[0]}<br>Year=%{marker.size}<br>Latitude=%{lat}<br>Longitude=%{lon}<extra></extra>\",\"hovertext\":[\"Stockholm\",\"Stockholm\"],\"lat\":[59.3325765,59.3325765],\"legendgroup\":\"Stockholm\",\"lon\":[18.0649033,18.0649033],\"marker\":{\"color\":\"#FFA15A\",\"size\":[1912,1956],\"sizemode\":\"area\",\"sizeref\":5.04},\"mode\":\"markers\",\"name\":\"Stockholm\",\"showlegend\":true,\"subplot\":\"mapbox\",\"type\":\"scattermapbox\"},{\"customdata\":[[\"Antwerp\"]],\"hovertemplate\":\"<b>%{hovertext}</b><br><br>City=%{customdata[0]}<br>Year=%{marker.size}<br>Latitude=%{lat}<br>Longitude=%{lon}<extra></extra>\",\"hovertext\":[\"Antwerp\"],\"lat\":[51.2166667],\"legendgroup\":\"Antwerp\",\"lon\":[4.4166665],\"marker\":{\"color\":\"#19d3f3\",\"size\":[1920],\"sizemode\":\"area\",\"sizeref\":5.04},\"mode\":\"markers\",\"name\":\"Antwerp\",\"showlegend\":true,\"subplot\":\"mapbox\",\"type\":\"scattermapbox\"},{\"customdata\":[[\"Chamonix\"]],\"hovertemplate\":\"<b>%{hovertext}</b><br><br>City=%{customdata[0]}<br>Year=%{marker.size}<br>Latitude=%{lat}<br>Longitude=%{lon}<extra></extra>\",\"hovertext\":[\"Chamonix\"],\"lat\":[45.9237],\"legendgroup\":\"Chamonix\",\"lon\":[6.8694],\"marker\":{\"color\":\"#FF6692\",\"size\":[1924],\"sizemode\":\"area\",\"sizeref\":5.04},\"mode\":\"markers\",\"name\":\"Chamonix\",\"showlegend\":true,\"subplot\":\"mapbox\",\"type\":\"scattermapbox\"},{\"customdata\":[[\"St. Moritz\"],[\"St. Moritz\"]],\"hovertemplate\":\"<b>%{hovertext}</b><br><br>City=%{customdata[0]}<br>Year=%{marker.size}<br>Latitude=%{lat}<br>Longitude=%{lon}<extra></extra>\",\"hovertext\":[\"St. Moritz\",\"St. Moritz\"],\"lat\":[46.4908,46.4908],\"legendgroup\":\"St. Moritz\",\"lon\":[9.8355,9.8355],\"marker\":{\"color\":\"#B6E880\",\"size\":[1928,1948],\"sizemode\":\"area\",\"sizeref\":5.04},\"mode\":\"markers\",\"name\":\"St. Moritz\",\"showlegend\":true,\"subplot\":\"mapbox\",\"type\":\"scattermapbox\"},{\"customdata\":[[\"Amsterdam\"]],\"hovertemplate\":\"<b>%{hovertext}</b><br><br>City=%{customdata[0]}<br>Year=%{marker.size}<br>Latitude=%{lat}<br>Longitude=%{lon}<extra></extra>\",\"hovertext\":[\"Amsterdam\"],\"lat\":[52.3075],\"legendgroup\":\"Amsterdam\",\"lon\":[4.9722219],\"marker\":{\"color\":\"#FF97FF\",\"size\":[1928],\"sizemode\":\"area\",\"sizeref\":5.04},\"mode\":\"markers\",\"name\":\"Amsterdam\",\"showlegend\":true,\"subplot\":\"mapbox\",\"type\":\"scattermapbox\"},{\"customdata\":[[\"Lake Placid\"],[\"Lake Placid\"]],\"hovertemplate\":\"<b>%{hovertext}</b><br><br>City=%{customdata[0]}<br>Year=%{marker.size}<br>Latitude=%{lat}<br>Longitude=%{lon}<extra></extra>\",\"hovertext\":[\"Lake Placid\",\"Lake Placid\"],\"lat\":[27.2931,27.2931],\"legendgroup\":\"Lake Placid\",\"lon\":[-81.362846,-81.362846],\"marker\":{\"color\":\"#FECB52\",\"size\":[1932,1980],\"sizemode\":\"area\",\"sizeref\":5.04},\"mode\":\"markers\",\"name\":\"Lake Placid\",\"showlegend\":true,\"subplot\":\"mapbox\",\"type\":\"scattermapbox\"},{\"customdata\":[[\"Los Angeles\"],[\"Los Angeles\"]],\"hovertemplate\":\"<b>%{hovertext}</b><br><br>City=%{customdata[0]}<br>Year=%{marker.size}<br>Latitude=%{lat}<br>Longitude=%{lon}<extra></extra>\",\"hovertext\":[\"Los Angeles\",\"Los Angeles\"],\"lat\":[34.0522342,34.0522342],\"legendgroup\":\"Los Angeles\",\"lon\":[-118.2436829,-118.2436829],\"marker\":{\"color\":\"#636efa\",\"size\":[1932,1984],\"sizemode\":\"area\",\"sizeref\":5.04},\"mode\":\"markers\",\"name\":\"Los Angeles\",\"showlegend\":true,\"subplot\":\"mapbox\",\"type\":\"scattermapbox\"},{\"customdata\":[[\"Garmisch-Partenkirchen\"]],\"hovertemplate\":\"<b>%{hovertext}</b><br><br>City=%{customdata[0]}<br>Year=%{marker.size}<br>Latitude=%{lat}<br>Longitude=%{lon}<extra></extra>\",\"hovertext\":[\"Garmisch-Partenkirchen\"],\"lat\":[47.49209],\"legendgroup\":\"Garmisch-Partenkirchen\",\"lon\":[11.09576],\"marker\":{\"color\":\"#EF553B\",\"size\":[1936],\"sizemode\":\"area\",\"sizeref\":5.04},\"mode\":\"markers\",\"name\":\"Garmisch-Partenkirchen\",\"showlegend\":true,\"subplot\":\"mapbox\",\"type\":\"scattermapbox\"},{\"customdata\":[[\"Berlin\"]],\"hovertemplate\":\"<b>%{hovertext}</b><br><br>City=%{customdata[0]}<br>Year=%{marker.size}<br>Latitude=%{lat}<br>Longitude=%{lon}<extra></extra>\",\"hovertext\":[\"Berlin\"],\"lat\":[52.5166667],\"legendgroup\":\"Berlin\",\"lon\":[13.3999996],\"marker\":{\"color\":\"#00cc96\",\"size\":[1936],\"sizemode\":\"area\",\"sizeref\":5.04},\"mode\":\"markers\",\"name\":\"Berlin\",\"showlegend\":true,\"subplot\":\"mapbox\",\"type\":\"scattermapbox\"},{\"customdata\":[[\"Oslo\"]],\"hovertemplate\":\"<b>%{hovertext}</b><br><br>City=%{customdata[0]}<br>Year=%{marker.size}<br>Latitude=%{lat}<br>Longitude=%{lon}<extra></extra>\",\"hovertext\":[\"Oslo\"],\"lat\":[60.1755556],\"legendgroup\":\"Oslo\",\"lon\":[24.934166],\"marker\":{\"color\":\"#ab63fa\",\"size\":[1952],\"sizemode\":\"area\",\"sizeref\":5.04},\"mode\":\"markers\",\"name\":\"Oslo\",\"showlegend\":true,\"subplot\":\"mapbox\",\"type\":\"scattermapbox\"},{\"customdata\":[[\"Helsinki\"]],\"hovertemplate\":\"<b>%{hovertext}</b><br><br>City=%{customdata[0]}<br>Year=%{marker.size}<br>Latitude=%{lat}<br>Longitude=%{lon}<extra></extra>\",\"hovertext\":[\"Helsinki\"],\"lat\":[60.1699],\"legendgroup\":\"Helsinki\",\"lon\":[24.9384],\"marker\":{\"color\":\"#FFA15A\",\"size\":[1952],\"sizemode\":\"area\",\"sizeref\":5.04},\"mode\":\"markers\",\"name\":\"Helsinki\",\"showlegend\":true,\"subplot\":\"mapbox\",\"type\":\"scattermapbox\"},{\"customdata\":[[\"Cortina d'Ampezzo\"]],\"hovertemplate\":\"<b>%{hovertext}</b><br><br>City=%{customdata[0]}<br>Year=%{marker.size}<br>Latitude=%{lat}<br>Longitude=%{lon}<extra></extra>\",\"hovertext\":[\"Cortina d'Ampezzo\"],\"lat\":[46.5405],\"legendgroup\":\"Cortina d'Ampezzo\",\"lon\":[12.1357],\"marker\":{\"color\":\"#19d3f3\",\"size\":[1956],\"sizemode\":\"area\",\"sizeref\":5.04},\"mode\":\"markers\",\"name\":\"Cortina d'Ampezzo\",\"showlegend\":true,\"subplot\":\"mapbox\",\"type\":\"scattermapbox\"},{\"customdata\":[[\"Melbourne\"]],\"hovertemplate\":\"<b>%{hovertext}</b><br><br>City=%{customdata[0]}<br>Year=%{marker.size}<br>Latitude=%{lat}<br>Longitude=%{lon}<extra></extra>\",\"hovertext\":[\"Melbourne\"],\"lat\":[-37.8139966],\"legendgroup\":\"Melbourne\",\"lon\":[144.9633179],\"marker\":{\"color\":\"#FF6692\",\"size\":[1956],\"sizemode\":\"area\",\"sizeref\":5.04},\"mode\":\"markers\",\"name\":\"Melbourne\",\"showlegend\":true,\"subplot\":\"mapbox\",\"type\":\"scattermapbox\"},{\"customdata\":[[\"Squaw Valley\"]],\"hovertemplate\":\"<b>%{hovertext}</b><br><br>City=%{customdata[0]}<br>Year=%{marker.size}<br>Latitude=%{lat}<br>Longitude=%{lon}<extra></extra>\",\"hovertext\":[\"Squaw Valley\"],\"lat\":[39.1963],\"legendgroup\":\"Squaw Valley\",\"lon\":[-120.2336],\"marker\":{\"color\":\"#B6E880\",\"size\":[1960],\"sizemode\":\"area\",\"sizeref\":5.04},\"mode\":\"markers\",\"name\":\"Squaw Valley\",\"showlegend\":true,\"subplot\":\"mapbox\",\"type\":\"scattermapbox\"},{\"customdata\":[[\"Rome\"]],\"hovertemplate\":\"<b>%{hovertext}</b><br><br>City=%{customdata[0]}<br>Year=%{marker.size}<br>Latitude=%{lat}<br>Longitude=%{lon}<extra></extra>\",\"hovertext\":[\"Rome\"],\"lat\":[41.9],\"legendgroup\":\"Rome\",\"lon\":[12.4833336],\"marker\":{\"color\":\"#FF97FF\",\"size\":[1960],\"sizemode\":\"area\",\"sizeref\":5.04},\"mode\":\"markers\",\"name\":\"Rome\",\"showlegend\":true,\"subplot\":\"mapbox\",\"type\":\"scattermapbox\"},{\"customdata\":[[\"Innsbruck\"],[\"Innsbruck\"]],\"hovertemplate\":\"<b>%{hovertext}</b><br><br>City=%{customdata[0]}<br>Year=%{marker.size}<br>Latitude=%{lat}<br>Longitude=%{lon}<extra></extra>\",\"hovertext\":[\"Innsbruck\",\"Innsbruck\"],\"lat\":[47.2666667,47.2666667],\"legendgroup\":\"Innsbruck\",\"lon\":[11.3999996,11.3999996],\"marker\":{\"color\":\"#FECB52\",\"size\":[1964,1976],\"sizemode\":\"area\",\"sizeref\":5.04},\"mode\":\"markers\",\"name\":\"Innsbruck\",\"showlegend\":true,\"subplot\":\"mapbox\",\"type\":\"scattermapbox\"},{\"customdata\":[[\"Tokyo\"]],\"hovertemplate\":\"<b>%{hovertext}</b><br><br>City=%{customdata[0]}<br>Year=%{marker.size}<br>Latitude=%{lat}<br>Longitude=%{lon}<extra></extra>\",\"hovertext\":[\"Tokyo\"],\"lat\":[35.6895266],\"legendgroup\":\"Tokyo\",\"lon\":[139.6916809],\"marker\":{\"color\":\"#636efa\",\"size\":[1964],\"sizemode\":\"area\",\"sizeref\":5.04},\"mode\":\"markers\",\"name\":\"Tokyo\",\"showlegend\":true,\"subplot\":\"mapbox\",\"type\":\"scattermapbox\"},{\"customdata\":[[\"Grenoble\"]],\"hovertemplate\":\"<b>%{hovertext}</b><br><br>City=%{customdata[0]}<br>Year=%{marker.size}<br>Latitude=%{lat}<br>Longitude=%{lon}<extra></extra>\",\"hovertext\":[\"Grenoble\"],\"lat\":[45.1666667],\"legendgroup\":\"Grenoble\",\"lon\":[5.7166667],\"marker\":{\"color\":\"#EF553B\",\"size\":[1968],\"sizemode\":\"area\",\"sizeref\":5.04},\"mode\":\"markers\",\"name\":\"Grenoble\",\"showlegend\":true,\"subplot\":\"mapbox\",\"type\":\"scattermapbox\"},{\"customdata\":[[\"Mexico City\"]],\"hovertemplate\":\"<b>%{hovertext}</b><br><br>City=%{customdata[0]}<br>Year=%{marker.size}<br>Latitude=%{lat}<br>Longitude=%{lon}<extra></extra>\",\"hovertext\":[\"Mexico City\"],\"lat\":[19.4341667],\"legendgroup\":\"Mexico City\",\"lon\":[-99.1386108],\"marker\":{\"color\":\"#00cc96\",\"size\":[1968],\"sizemode\":\"area\",\"sizeref\":5.04},\"mode\":\"markers\",\"name\":\"Mexico City\",\"showlegend\":true,\"subplot\":\"mapbox\",\"type\":\"scattermapbox\"},{\"customdata\":[[\"Sapporo\"]],\"hovertemplate\":\"<b>%{hovertext}</b><br><br>City=%{customdata[0]}<br>Year=%{marker.size}<br>Latitude=%{lat}<br>Longitude=%{lon}<extra></extra>\",\"hovertext\":[\"Sapporo\"],\"lat\":[43.0547222],\"legendgroup\":\"Sapporo\",\"lon\":[141.3538818],\"marker\":{\"color\":\"#ab63fa\",\"size\":[1972],\"sizemode\":\"area\",\"sizeref\":5.04},\"mode\":\"markers\",\"name\":\"Sapporo\",\"showlegend\":true,\"subplot\":\"mapbox\",\"type\":\"scattermapbox\"},{\"customdata\":[[\"Munich\"]],\"hovertemplate\":\"<b>%{hovertext}</b><br><br>City=%{customdata[0]}<br>Year=%{marker.size}<br>Latitude=%{lat}<br>Longitude=%{lon}<extra></extra>\",\"hovertext\":[\"Munich\"],\"lat\":[48.1351],\"legendgroup\":\"Munich\",\"lon\":[11.582],\"marker\":{\"color\":\"#FFA15A\",\"size\":[1972],\"sizemode\":\"area\",\"sizeref\":5.04},\"mode\":\"markers\",\"name\":\"Munich\",\"showlegend\":true,\"subplot\":\"mapbox\",\"type\":\"scattermapbox\"},{\"customdata\":[[\"Montreal\"]],\"hovertemplate\":\"<b>%{hovertext}</b><br><br>City=%{customdata[0]}<br>Year=%{marker.size}<br>Latitude=%{lat}<br>Longitude=%{lon}<extra></extra>\",\"hovertext\":[\"Montreal\"],\"lat\":[45.5167792],\"legendgroup\":\"Montreal\",\"lon\":[-73.6491776],\"marker\":{\"color\":\"#19d3f3\",\"size\":[1976],\"sizemode\":\"area\",\"sizeref\":5.04},\"mode\":\"markers\",\"name\":\"Montreal\",\"showlegend\":true,\"subplot\":\"mapbox\",\"type\":\"scattermapbox\"},{\"customdata\":[[\"Moscow\"]],\"hovertemplate\":\"<b>%{hovertext}</b><br><br>City=%{customdata[0]}<br>Year=%{marker.size}<br>Latitude=%{lat}<br>Longitude=%{lon}<extra></extra>\",\"hovertext\":[\"Moscow\"],\"lat\":[55.7522222],\"legendgroup\":\"Moscow\",\"lon\":[37.6155548],\"marker\":{\"color\":\"#FF6692\",\"size\":[1980],\"sizemode\":\"area\",\"sizeref\":5.04},\"mode\":\"markers\",\"name\":\"Moscow\",\"showlegend\":true,\"subplot\":\"mapbox\",\"type\":\"scattermapbox\"},{\"customdata\":[[\"Sarajevo\"]],\"hovertemplate\":\"<b>%{hovertext}</b><br><br>City=%{customdata[0]}<br>Year=%{marker.size}<br>Latitude=%{lat}<br>Longitude=%{lon}<extra></extra>\",\"hovertext\":[\"Sarajevo\"],\"lat\":[43.85],\"legendgroup\":\"Sarajevo\",\"lon\":[18.3833332],\"marker\":{\"color\":\"#B6E880\",\"size\":[1984],\"sizemode\":\"area\",\"sizeref\":5.04},\"mode\":\"markers\",\"name\":\"Sarajevo\",\"showlegend\":true,\"subplot\":\"mapbox\",\"type\":\"scattermapbox\"},{\"customdata\":[[\"Calgary\"]],\"hovertemplate\":\"<b>%{hovertext}</b><br><br>City=%{customdata[0]}<br>Year=%{marker.size}<br>Latitude=%{lat}<br>Longitude=%{lon}<extra></extra>\",\"hovertext\":[\"Calgary\"],\"lat\":[51.0501123],\"legendgroup\":\"Calgary\",\"lon\":[-114.085289],\"marker\":{\"color\":\"#FF97FF\",\"size\":[1988],\"sizemode\":\"area\",\"sizeref\":5.04},\"mode\":\"markers\",\"name\":\"Calgary\",\"showlegend\":true,\"subplot\":\"mapbox\",\"type\":\"scattermapbox\"},{\"customdata\":[[\"Seoul\"]],\"hovertemplate\":\"<b>%{hovertext}</b><br><br>City=%{customdata[0]}<br>Year=%{marker.size}<br>Latitude=%{lat}<br>Longitude=%{lon}<extra></extra>\",\"hovertext\":[\"Seoul\"],\"lat\":[37.5663889],\"legendgroup\":\"Seoul\",\"lon\":[126.9997253],\"marker\":{\"color\":\"#FECB52\",\"size\":[1988],\"sizemode\":\"area\",\"sizeref\":5.04},\"mode\":\"markers\",\"name\":\"Seoul\",\"showlegend\":true,\"subplot\":\"mapbox\",\"type\":\"scattermapbox\"},{\"customdata\":[[\"Albertville\"]],\"hovertemplate\":\"<b>%{hovertext}</b><br><br>City=%{customdata[0]}<br>Year=%{marker.size}<br>Latitude=%{lat}<br>Longitude=%{lon}<extra></extra>\",\"hovertext\":[\"Albertville\"],\"lat\":[45.6755],\"legendgroup\":\"Albertville\",\"lon\":[6.3927],\"marker\":{\"color\":\"#636efa\",\"size\":[1992],\"sizemode\":\"area\",\"sizeref\":5.04},\"mode\":\"markers\",\"name\":\"Albertville\",\"showlegend\":true,\"subplot\":\"mapbox\",\"type\":\"scattermapbox\"},{\"customdata\":[[\"Barcelona\"]],\"hovertemplate\":\"<b>%{hovertext}</b><br><br>City=%{customdata[0]}<br>Year=%{marker.size}<br>Latitude=%{lat}<br>Longitude=%{lon}<extra></extra>\",\"hovertext\":[\"Barcelona\"],\"lat\":[41.3887869],\"legendgroup\":\"Barcelona\",\"lon\":[2.1589851],\"marker\":{\"color\":\"#EF553B\",\"size\":[1992],\"sizemode\":\"area\",\"sizeref\":5.04},\"mode\":\"markers\",\"name\":\"Barcelona\",\"showlegend\":true,\"subplot\":\"mapbox\",\"type\":\"scattermapbox\"},{\"customdata\":[[\"Lillehammer\"]],\"hovertemplate\":\"<b>%{hovertext}</b><br><br>City=%{customdata[0]}<br>Year=%{marker.size}<br>Latitude=%{lat}<br>Longitude=%{lon}<extra></extra>\",\"hovertext\":[\"Lillehammer\"],\"lat\":[61.1153],\"legendgroup\":\"Lillehammer\",\"lon\":[10.4662],\"marker\":{\"color\":\"#00cc96\",\"size\":[1994],\"sizemode\":\"area\",\"sizeref\":5.04},\"mode\":\"markers\",\"name\":\"Lillehammer\",\"showlegend\":true,\"subplot\":\"mapbox\",\"type\":\"scattermapbox\"},{\"customdata\":[[\"Atlanta\"]],\"hovertemplate\":\"<b>%{hovertext}</b><br><br>City=%{customdata[0]}<br>Year=%{marker.size}<br>Latitude=%{lat}<br>Longitude=%{lon}<extra></extra>\",\"hovertext\":[\"Atlanta\"],\"lat\":[33.7489954],\"legendgroup\":\"Atlanta\",\"lon\":[-84.3879852],\"marker\":{\"color\":\"#ab63fa\",\"size\":[1996],\"sizemode\":\"area\",\"sizeref\":5.04},\"mode\":\"markers\",\"name\":\"Atlanta\",\"showlegend\":true,\"subplot\":\"mapbox\",\"type\":\"scattermapbox\"},{\"customdata\":[[\"Nagano\"]],\"hovertemplate\":\"<b>%{hovertext}</b><br><br>City=%{customdata[0]}<br>Year=%{marker.size}<br>Latitude=%{lat}<br>Longitude=%{lon}<extra></extra>\",\"hovertext\":[\"Nagano\"],\"lat\":[36.65],\"legendgroup\":\"Nagano\",\"lon\":[138.1833344],\"marker\":{\"color\":\"#FFA15A\",\"size\":[1998],\"sizemode\":\"area\",\"sizeref\":5.04},\"mode\":\"markers\",\"name\":\"Nagano\",\"showlegend\":true,\"subplot\":\"mapbox\",\"type\":\"scattermapbox\"},{\"customdata\":[[\"Sydney\"]],\"hovertemplate\":\"<b>%{hovertext}</b><br><br>City=%{customdata[0]}<br>Year=%{marker.size}<br>Latitude=%{lat}<br>Longitude=%{lon}<extra></extra>\",\"hovertext\":[\"Sydney\"],\"lat\":[-33.86785],\"legendgroup\":\"Sydney\",\"lon\":[151.2073212],\"marker\":{\"color\":\"#19d3f3\",\"size\":[2000],\"sizemode\":\"area\",\"sizeref\":5.04},\"mode\":\"markers\",\"name\":\"Sydney\",\"showlegend\":true,\"subplot\":\"mapbox\",\"type\":\"scattermapbox\"},{\"customdata\":[[\"Salt Lake City\"]],\"hovertemplate\":\"<b>%{hovertext}</b><br><br>City=%{customdata[0]}<br>Year=%{marker.size}<br>Latitude=%{lat}<br>Longitude=%{lon}<extra></extra>\",\"hovertext\":[\"Salt Lake City\"],\"lat\":[40.758701],\"legendgroup\":\"Salt Lake City\",\"lon\":[-111.876183],\"marker\":{\"color\":\"#FF6692\",\"size\":[2002],\"sizemode\":\"area\",\"sizeref\":5.04},\"mode\":\"markers\",\"name\":\"Salt Lake City\",\"showlegend\":true,\"subplot\":\"mapbox\",\"type\":\"scattermapbox\"},{\"customdata\":[[\"Turin\"]],\"hovertemplate\":\"<b>%{hovertext}</b><br><br>City=%{customdata[0]}<br>Year=%{marker.size}<br>Latitude=%{lat}<br>Longitude=%{lon}<extra></extra>\",\"hovertext\":[\"Turin\"],\"lat\":[45.0703],\"legendgroup\":\"Turin\",\"lon\":[7.6869],\"marker\":{\"color\":\"#B6E880\",\"size\":[2006],\"sizemode\":\"area\",\"sizeref\":5.04},\"mode\":\"markers\",\"name\":\"Turin\",\"showlegend\":true,\"subplot\":\"mapbox\",\"type\":\"scattermapbox\"},{\"customdata\":[[\"Beijing\"]],\"hovertemplate\":\"<b>%{hovertext}</b><br><br>City=%{customdata[0]}<br>Year=%{marker.size}<br>Latitude=%{lat}<br>Longitude=%{lon}<extra></extra>\",\"hovertext\":[\"Beijing\"],\"lat\":[39.9074977],\"legendgroup\":\"Beijing\",\"lon\":[116.3972244],\"marker\":{\"color\":\"#FF97FF\",\"size\":[2008],\"sizemode\":\"area\",\"sizeref\":5.04},\"mode\":\"markers\",\"name\":\"Beijing\",\"showlegend\":true,\"subplot\":\"mapbox\",\"type\":\"scattermapbox\"},{\"customdata\":[[\"Vancouver\"]],\"hovertemplate\":\"<b>%{hovertext}</b><br><br>City=%{customdata[0]}<br>Year=%{marker.size}<br>Latitude=%{lat}<br>Longitude=%{lon}<extra></extra>\",\"hovertext\":[\"Vancouver\"],\"lat\":[49.2496574],\"legendgroup\":\"Vancouver\",\"lon\":[-123.119339],\"marker\":{\"color\":\"#FECB52\",\"size\":[2010],\"sizemode\":\"area\",\"sizeref\":5.04},\"mode\":\"markers\",\"name\":\"Vancouver\",\"showlegend\":true,\"subplot\":\"mapbox\",\"type\":\"scattermapbox\"},{\"customdata\":[[\"Sochi\"]],\"hovertemplate\":\"<b>%{hovertext}</b><br><br>City=%{customdata[0]}<br>Year=%{marker.size}<br>Latitude=%{lat}<br>Longitude=%{lon}<extra></extra>\",\"hovertext\":[\"Sochi\"],\"lat\":[43.6],\"legendgroup\":\"Sochi\",\"lon\":[39.730278],\"marker\":{\"color\":\"#636efa\",\"size\":[2014],\"sizemode\":\"area\",\"sizeref\":5.04},\"mode\":\"markers\",\"name\":\"Sochi\",\"showlegend\":true,\"subplot\":\"mapbox\",\"type\":\"scattermapbox\"},{\"customdata\":[[\"Rio de Janeiro\"]],\"hovertemplate\":\"<b>%{hovertext}</b><br><br>City=%{customdata[0]}<br>Year=%{marker.size}<br>Latitude=%{lat}<br>Longitude=%{lon}<extra></extra>\",\"hovertext\":[\"Rio de Janeiro\"],\"lat\":[-22.9027778],\"legendgroup\":\"Rio de Janeiro\",\"lon\":[-43.2075005],\"marker\":{\"color\":\"#EF553B\",\"size\":[2016],\"sizemode\":\"area\",\"sizeref\":5.04},\"mode\":\"markers\",\"name\":\"Rio de Janeiro\",\"showlegend\":true,\"subplot\":\"mapbox\",\"type\":\"scattermapbox\"}],                        {\"template\":{\"data\":{\"bar\":[{\"error_x\":{\"color\":\"#2a3f5f\"},\"error_y\":{\"color\":\"#2a3f5f\"},\"marker\":{\"line\":{\"color\":\"#E5ECF6\",\"width\":0.5},\"pattern\":{\"fillmode\":\"overlay\",\"size\":10,\"solidity\":0.2}},\"type\":\"bar\"}],\"barpolar\":[{\"marker\":{\"line\":{\"color\":\"#E5ECF6\",\"width\":0.5},\"pattern\":{\"fillmode\":\"overlay\",\"size\":10,\"solidity\":0.2}},\"type\":\"barpolar\"}],\"carpet\":[{\"aaxis\":{\"endlinecolor\":\"#2a3f5f\",\"gridcolor\":\"white\",\"linecolor\":\"white\",\"minorgridcolor\":\"white\",\"startlinecolor\":\"#2a3f5f\"},\"baxis\":{\"endlinecolor\":\"#2a3f5f\",\"gridcolor\":\"white\",\"linecolor\":\"white\",\"minorgridcolor\":\"white\",\"startlinecolor\":\"#2a3f5f\"},\"type\":\"carpet\"}],\"choropleth\":[{\"colorbar\":{\"outlinewidth\":0,\"ticks\":\"\"},\"type\":\"choropleth\"}],\"contour\":[{\"colorbar\":{\"outlinewidth\":0,\"ticks\":\"\"},\"colorscale\":[[0.0,\"#0d0887\"],[0.1111111111111111,\"#46039f\"],[0.2222222222222222,\"#7201a8\"],[0.3333333333333333,\"#9c179e\"],[0.4444444444444444,\"#bd3786\"],[0.5555555555555556,\"#d8576b\"],[0.6666666666666666,\"#ed7953\"],[0.7777777777777778,\"#fb9f3a\"],[0.8888888888888888,\"#fdca26\"],[1.0,\"#f0f921\"]],\"type\":\"contour\"}],\"contourcarpet\":[{\"colorbar\":{\"outlinewidth\":0,\"ticks\":\"\"},\"type\":\"contourcarpet\"}],\"heatmap\":[{\"colorbar\":{\"outlinewidth\":0,\"ticks\":\"\"},\"colorscale\":[[0.0,\"#0d0887\"],[0.1111111111111111,\"#46039f\"],[0.2222222222222222,\"#7201a8\"],[0.3333333333333333,\"#9c179e\"],[0.4444444444444444,\"#bd3786\"],[0.5555555555555556,\"#d8576b\"],[0.6666666666666666,\"#ed7953\"],[0.7777777777777778,\"#fb9f3a\"],[0.8888888888888888,\"#fdca26\"],[1.0,\"#f0f921\"]],\"type\":\"heatmap\"}],\"heatmapgl\":[{\"colorbar\":{\"outlinewidth\":0,\"ticks\":\"\"},\"colorscale\":[[0.0,\"#0d0887\"],[0.1111111111111111,\"#46039f\"],[0.2222222222222222,\"#7201a8\"],[0.3333333333333333,\"#9c179e\"],[0.4444444444444444,\"#bd3786\"],[0.5555555555555556,\"#d8576b\"],[0.6666666666666666,\"#ed7953\"],[0.7777777777777778,\"#fb9f3a\"],[0.8888888888888888,\"#fdca26\"],[1.0,\"#f0f921\"]],\"type\":\"heatmapgl\"}],\"histogram\":[{\"marker\":{\"pattern\":{\"fillmode\":\"overlay\",\"size\":10,\"solidity\":0.2}},\"type\":\"histogram\"}],\"histogram2d\":[{\"colorbar\":{\"outlinewidth\":0,\"ticks\":\"\"},\"colorscale\":[[0.0,\"#0d0887\"],[0.1111111111111111,\"#46039f\"],[0.2222222222222222,\"#7201a8\"],[0.3333333333333333,\"#9c179e\"],[0.4444444444444444,\"#bd3786\"],[0.5555555555555556,\"#d8576b\"],[0.6666666666666666,\"#ed7953\"],[0.7777777777777778,\"#fb9f3a\"],[0.8888888888888888,\"#fdca26\"],[1.0,\"#f0f921\"]],\"type\":\"histogram2d\"}],\"histogram2dcontour\":[{\"colorbar\":{\"outlinewidth\":0,\"ticks\":\"\"},\"colorscale\":[[0.0,\"#0d0887\"],[0.1111111111111111,\"#46039f\"],[0.2222222222222222,\"#7201a8\"],[0.3333333333333333,\"#9c179e\"],[0.4444444444444444,\"#bd3786\"],[0.5555555555555556,\"#d8576b\"],[0.6666666666666666,\"#ed7953\"],[0.7777777777777778,\"#fb9f3a\"],[0.8888888888888888,\"#fdca26\"],[1.0,\"#f0f921\"]],\"type\":\"histogram2dcontour\"}],\"mesh3d\":[{\"colorbar\":{\"outlinewidth\":0,\"ticks\":\"\"},\"type\":\"mesh3d\"}],\"parcoords\":[{\"line\":{\"colorbar\":{\"outlinewidth\":0,\"ticks\":\"\"}},\"type\":\"parcoords\"}],\"pie\":[{\"automargin\":true,\"type\":\"pie\"}],\"scatter\":[{\"marker\":{\"colorbar\":{\"outlinewidth\":0,\"ticks\":\"\"}},\"type\":\"scatter\"}],\"scatter3d\":[{\"line\":{\"colorbar\":{\"outlinewidth\":0,\"ticks\":\"\"}},\"marker\":{\"colorbar\":{\"outlinewidth\":0,\"ticks\":\"\"}},\"type\":\"scatter3d\"}],\"scattercarpet\":[{\"marker\":{\"colorbar\":{\"outlinewidth\":0,\"ticks\":\"\"}},\"type\":\"scattercarpet\"}],\"scattergeo\":[{\"marker\":{\"colorbar\":{\"outlinewidth\":0,\"ticks\":\"\"}},\"type\":\"scattergeo\"}],\"scattergl\":[{\"marker\":{\"colorbar\":{\"outlinewidth\":0,\"ticks\":\"\"}},\"type\":\"scattergl\"}],\"scattermapbox\":[{\"marker\":{\"colorbar\":{\"outlinewidth\":0,\"ticks\":\"\"}},\"type\":\"scattermapbox\"}],\"scatterpolar\":[{\"marker\":{\"colorbar\":{\"outlinewidth\":0,\"ticks\":\"\"}},\"type\":\"scatterpolar\"}],\"scatterpolargl\":[{\"marker\":{\"colorbar\":{\"outlinewidth\":0,\"ticks\":\"\"}},\"type\":\"scatterpolargl\"}],\"scatterternary\":[{\"marker\":{\"colorbar\":{\"outlinewidth\":0,\"ticks\":\"\"}},\"type\":\"scatterternary\"}],\"surface\":[{\"colorbar\":{\"outlinewidth\":0,\"ticks\":\"\"},\"colorscale\":[[0.0,\"#0d0887\"],[0.1111111111111111,\"#46039f\"],[0.2222222222222222,\"#7201a8\"],[0.3333333333333333,\"#9c179e\"],[0.4444444444444444,\"#bd3786\"],[0.5555555555555556,\"#d8576b\"],[0.6666666666666666,\"#ed7953\"],[0.7777777777777778,\"#fb9f3a\"],[0.8888888888888888,\"#fdca26\"],[1.0,\"#f0f921\"]],\"type\":\"surface\"}],\"table\":[{\"cells\":{\"fill\":{\"color\":\"#EBF0F8\"},\"line\":{\"color\":\"white\"}},\"header\":{\"fill\":{\"color\":\"#C8D4E3\"},\"line\":{\"color\":\"white\"}},\"type\":\"table\"}]},\"layout\":{\"annotationdefaults\":{\"arrowcolor\":\"#2a3f5f\",\"arrowhead\":0,\"arrowwidth\":1},\"autotypenumbers\":\"strict\",\"coloraxis\":{\"colorbar\":{\"outlinewidth\":0,\"ticks\":\"\"}},\"colorscale\":{\"diverging\":[[0,\"#8e0152\"],[0.1,\"#c51b7d\"],[0.2,\"#de77ae\"],[0.3,\"#f1b6da\"],[0.4,\"#fde0ef\"],[0.5,\"#f7f7f7\"],[0.6,\"#e6f5d0\"],[0.7,\"#b8e186\"],[0.8,\"#7fbc41\"],[0.9,\"#4d9221\"],[1,\"#276419\"]],\"sequential\":[[0.0,\"#0d0887\"],[0.1111111111111111,\"#46039f\"],[0.2222222222222222,\"#7201a8\"],[0.3333333333333333,\"#9c179e\"],[0.4444444444444444,\"#bd3786\"],[0.5555555555555556,\"#d8576b\"],[0.6666666666666666,\"#ed7953\"],[0.7777777777777778,\"#fb9f3a\"],[0.8888888888888888,\"#fdca26\"],[1.0,\"#f0f921\"]],\"sequentialminus\":[[0.0,\"#0d0887\"],[0.1111111111111111,\"#46039f\"],[0.2222222222222222,\"#7201a8\"],[0.3333333333333333,\"#9c179e\"],[0.4444444444444444,\"#bd3786\"],[0.5555555555555556,\"#d8576b\"],[0.6666666666666666,\"#ed7953\"],[0.7777777777777778,\"#fb9f3a\"],[0.8888888888888888,\"#fdca26\"],[1.0,\"#f0f921\"]]},\"colorway\":[\"#636efa\",\"#EF553B\",\"#00cc96\",\"#ab63fa\",\"#FFA15A\",\"#19d3f3\",\"#FF6692\",\"#B6E880\",\"#FF97FF\",\"#FECB52\"],\"font\":{\"color\":\"#2a3f5f\"},\"geo\":{\"bgcolor\":\"white\",\"lakecolor\":\"white\",\"landcolor\":\"#E5ECF6\",\"showlakes\":true,\"showland\":true,\"subunitcolor\":\"white\"},\"hoverlabel\":{\"align\":\"left\"},\"hovermode\":\"closest\",\"mapbox\":{\"style\":\"light\"},\"paper_bgcolor\":\"white\",\"plot_bgcolor\":\"#E5ECF6\",\"polar\":{\"angularaxis\":{\"gridcolor\":\"white\",\"linecolor\":\"white\",\"ticks\":\"\"},\"bgcolor\":\"#E5ECF6\",\"radialaxis\":{\"gridcolor\":\"white\",\"linecolor\":\"white\",\"ticks\":\"\"}},\"scene\":{\"xaxis\":{\"backgroundcolor\":\"#E5ECF6\",\"gridcolor\":\"white\",\"gridwidth\":2,\"linecolor\":\"white\",\"showbackground\":true,\"ticks\":\"\",\"zerolinecolor\":\"white\"},\"yaxis\":{\"backgroundcolor\":\"#E5ECF6\",\"gridcolor\":\"white\",\"gridwidth\":2,\"linecolor\":\"white\",\"showbackground\":true,\"ticks\":\"\",\"zerolinecolor\":\"white\"},\"zaxis\":{\"backgroundcolor\":\"#E5ECF6\",\"gridcolor\":\"white\",\"gridwidth\":2,\"linecolor\":\"white\",\"showbackground\":true,\"ticks\":\"\",\"zerolinecolor\":\"white\"}},\"shapedefaults\":{\"line\":{\"color\":\"#2a3f5f\"}},\"ternary\":{\"aaxis\":{\"gridcolor\":\"white\",\"linecolor\":\"white\",\"ticks\":\"\"},\"baxis\":{\"gridcolor\":\"white\",\"linecolor\":\"white\",\"ticks\":\"\"},\"bgcolor\":\"#E5ECF6\",\"caxis\":{\"gridcolor\":\"white\",\"linecolor\":\"white\",\"ticks\":\"\"}},\"title\":{\"x\":0.05},\"xaxis\":{\"automargin\":true,\"gridcolor\":\"white\",\"linecolor\":\"white\",\"ticks\":\"\",\"title\":{\"standoff\":15},\"zerolinecolor\":\"white\",\"zerolinewidth\":2},\"yaxis\":{\"automargin\":true,\"gridcolor\":\"white\",\"linecolor\":\"white\",\"ticks\":\"\",\"title\":{\"standoff\":15},\"zerolinecolor\":\"white\",\"zerolinewidth\":2}}},\"mapbox\":{\"domain\":{\"x\":[0.0,1.0],\"y\":[0.0,1.0]},\"center\":{\"lat\":40.410420360784315,\"lon\":1.6677370960784317},\"accesstoken\":\"pk.eyJ1IjoiY2Fjb250b3MiLCJhIjoiY2t5dGVkMjQyMDNzYzJvbWtzejFzNTd6MiJ9.D_FYXd684hIwPT1oBVS7IQ\",\"zoom\":10.5},\"legend\":{\"title\":{\"text\":\"City\"},\"tracegroupgap\":0,\"itemsizing\":\"constant\"},\"title\":{\"text\":\"Cities that have hosted the Olympics\"}},                        {\"responsive\": true}                    ).then(function(){\n",
       "                            \n",
       "var gd = document.getElementById('2e803568-9716-4c81-b650-30612067fc8f');\n",
       "var x = new MutationObserver(function (mutations, observer) {{\n",
       "        var display = window.getComputedStyle(gd).display;\n",
       "        if (!display || display === 'none') {{\n",
       "            console.log([gd, 'removed!']);\n",
       "            Plotly.purge(gd);\n",
       "            observer.disconnect();\n",
       "        }}\n",
       "}});\n",
       "\n",
       "// Listen for the removal of the full notebook cells\n",
       "var notebookContainer = gd.closest('#notebook-container');\n",
       "if (notebookContainer) {{\n",
       "    x.observe(notebookContainer, {childList: true});\n",
       "}}\n",
       "\n",
       "// Listen for the clearing of the current output cell\n",
       "var outputEl = gd.closest('.output');\n",
       "if (outputEl) {{\n",
       "    x.observe(outputEl, {childList: true});\n",
       "}}\n",
       "\n",
       "                        })                };                });            </script>        </div>"
      ]
     },
     "metadata": {},
     "output_type": "display_data"
    }
   ],
   "source": [
    "px.set_mapbox_access_token(map_box_api)\n",
    "\n",
    "\n",
    "# Create a scatter mapbox to analyze neighborhood info\n",
    "# YOUR CODE HERE!\n",
    "map_plot = px.scatter_mapbox(\n",
    "    loc_data,\n",
    "    title = \"Cities that have hosted the Olympics\",\n",
    "    lat = \"Latitude\",\n",
    "    lon = \"Longitude\",\n",
    "    color = \"City\",\n",
    "    size = \"Year\",\n",
    "    hover_name = \"City\",\n",
    "    hover_data = [\"City\"],\n",
    "    zoom = 10.5,\n",
    "    \n",
    ")\n",
    "\n",
    "map_plot.show()\n",
    "# Display the map"
   ]
  },
  {
   "cell_type": "code",
   "execution_count": null,
   "id": "a9384294",
   "metadata": {},
   "outputs": [],
   "source": []
  }
 ],
 "metadata": {
  "kernelspec": {
   "display_name": "Python [conda env:pyvizenv] *",
   "language": "python",
   "name": "conda-env-pyvizenv-py"
  },
  "language_info": {
   "codemirror_mode": {
    "name": "ipython",
    "version": 3
   },
   "file_extension": ".py",
   "mimetype": "text/x-python",
   "name": "python",
   "nbconvert_exporter": "python",
   "pygments_lexer": "ipython3",
   "version": "3.7.11"
  }
 },
 "nbformat": 4,
 "nbformat_minor": 5
}
